{
 "cells": [
  {
   "cell_type": "markdown",
   "metadata": {},
   "source": [
    "# Introduction integration \n",
    "In mathematics, an integral assigns numbers to functions in a way that describes displacement, area, volume, and other concepts that arise by combining infinitesimal data. The process of finding integrals is called integration [source](https://en.wikipedia.org/wiki/Integral). To solve the many Data Science problem we should use integration. In Data Science we need to use not only singal dimensional integral, hence there is requirement of used of multi dimensional integration to solve many Data Science problem. \n",
    "\n",
    "In this blog we are going to introduce integration of complex function using Monte Carlo method and later we estimate the error of our calculated integration.\n",
    "\n",
    "Lets us consider following integration problem $$  \\int_{0}^{1} e^x $$. If we solve this problem mathematically we get, \n",
    "\n",
    "$$  \\int_{0}^{1} e^x \n",
    "= [e^x]_{0}^{1}\n",
    "= e^1 - e^0\n",
    "= 2.718281828459045 - 1\n",
    "= 1.718281828459045\n",
    "$$\n",
    "\n",
    "Hence, actual value of above integration problem is 1.718281...\n"
   ]
  },
  {
   "cell_type": "markdown",
   "metadata": {
    "ExecuteTime": {
     "end_time": "2022-09-23T00:58:28.687141Z",
     "start_time": "2022-09-23T00:58:28.651093Z"
    }
   },
   "source": [
    "# Lets Calculate it's value using Monte Carlo Method \n",
    "\n",
    "### Algorithm\n",
    "1. impost random number\n",
    "2. Choose N(i.e no of MC steps)\n",
    "3. Perform a loop over N such that you choose $x_i \\in (0,1)$.\n",
    "4. Find f(xi)\n",
    "5. find mean\n",
    "6. print"
   ]
  },
  {
   "cell_type": "code",
   "execution_count": 10,
   "metadata": {
    "ExecuteTime": {
     "end_time": "2022-09-23T01:17:27.486815Z",
     "start_time": "2022-09-23T01:17:26.077292Z"
    }
   },
   "outputs": [],
   "source": [
    "import random\n",
    "import math\n",
    "import numpy as np \n",
    "import matplotlib.pyplot as plt"
   ]
  },
  {
   "cell_type": "code",
   "execution_count": 34,
   "metadata": {
    "ExecuteTime": {
     "end_time": "2022-09-23T01:36:32.786863Z",
     "start_time": "2022-09-23T01:36:29.942379Z"
    }
   },
   "outputs": [
    {
     "name": "stdout",
     "output_type": "stream",
     "text": [
      "True Mean:\n",
      "Calculates Mean: 1.7533929772780017\n",
      "Error Value of Mean: 0.035111148818956606\n",
      "Calculates Mean: 1.7235132769915982\n",
      "Error Value of Mean: 0.005231448532553085\n",
      "Calculates Mean: 1.726876503411867\n",
      "Error Value of Mean: 0.008594674952821846\n",
      "Calculates Mean: 1.716686250054821\n",
      "Error Value of Mean: 0.001595578404224085\n",
      "Calculates Mean: 1.718391827316202\n",
      "Error Value of Mean: 0.00010999885715690105\n",
      "Calculates Mean: 1.7179675674235344\n",
      "Error Value of Mean: 0.00031426103551068785\n"
     ]
    }
   ],
   "source": [
    "print(\"True Mean:\")\n",
    "true_value = 1.718281828459045\n",
    "N = [100,1000,10000,100000,100000,1000000]\n",
    "d = {}\n",
    "E = []\n",
    "for i in range(len(N)):\n",
    "    integral = 0 \n",
    "    \n",
    "    for j in range(N[i]):\n",
    "        \n",
    "        x = random.random()\n",
    "        integral += np.exp(x)\n",
    "    test_value = integral/j\n",
    "    error = abs(test_value - true_value)\n",
    "    E.append(error)\n",
    "    print(f\"Calculates Mean: {test_value}\")\n",
    "    print(f\"Error Value of Mean: {error}\")\n",
    "    \n",
    "    "
   ]
  },
  {
   "cell_type": "code",
   "execution_count": 35,
   "metadata": {
    "ExecuteTime": {
     "end_time": "2022-09-23T01:36:36.655571Z",
     "start_time": "2022-09-23T01:36:36.642288Z"
    }
   },
   "outputs": [
    {
     "name": "stdout",
     "output_type": "stream",
     "text": [
      "[100, 1000, 10000, 100000, 100000, 1000000] [0.035111148818956606, 0.005231448532553085, 0.008594674952821846, 0.001595578404224085, 0.00010999885715690105, 0.00031426103551068785]\n"
     ]
    }
   ],
   "source": [
    "print(N, E)"
   ]
  },
  {
   "cell_type": "code",
   "execution_count": 37,
   "metadata": {
    "ExecuteTime": {
     "end_time": "2022-09-23T01:52:03.951462Z",
     "start_time": "2022-09-23T01:52:03.736330Z"
    },
    "scrolled": true
   },
   "outputs": [
    {
     "data": {
      "image/png": "[encoded data removed]",
      "text/plain": [
       "<Figure size 432x288 with 1 Axes>"
      ]
     },
     "metadata": {
      "needs_background": "light"
     },
     "output_type": "display_data"
    }
   ],
   "source": [
    "plt.plot(N, list(E))\n",
    "plt.show()"
   ]
  },
  {
   "cell_type": "markdown",
   "metadata": {},
   "source": [
    "As seen in the aforementioned image, when the number is originally tiny, the error value is high. Later on, as the number rises, the error value begins to fall."
   ]
  },
  {
   "cell_type": "markdown",
   "metadata": {},
   "source": [
    "# Lets Calculate Integration In the range [a,b)"
   ]
  },
  {
   "cell_type": "code",
   "execution_count": 41,
   "metadata": {
    "ExecuteTime": {
     "end_time": "2022-09-23T02:02:59.560779Z",
     "start_time": "2022-09-23T02:02:59.539684Z"
    }
   },
   "outputs": [
    {
     "name": "stdout",
     "output_type": "stream",
     "text": [
      "0.0014293209498465321\n",
      "0.0011720304229474166\n",
      "0.001912217584029893\n",
      "0.00213255359328241\n"
     ]
    }
   ],
   "source": [
    "\n",
    "N = [100,1000,10000,100000]\n",
    "for i in range(len(N)):\n",
    "    a = 2\n",
    "    b = 3\n",
    "    integral = 0\n",
    "    i = 0\n",
    "    while N[i] < 1000:\n",
    "        x = random.random()\n",
    "        integral += math.exp(x)\n",
    "        i = i + 1\n",
    "        ans = integral * (b-a)/float(1000)\n",
    "        print(ans)"
   ]
  },
  {
   "cell_type": "code",
   "execution_count": null,
   "metadata": {},
   "outputs": [],
   "source": []
  }
 ],
 "metadata": {
  "kernelspec": {
   "display_name": "Python 3",
   "language": "python",
   "name": "python3"
  },
  "language_info": {
   "codemirror_mode": {
    "name": "ipython",
    "version": 3
   },
   "file_extension": ".py",
   "mimetype": "text/x-python",
   "name": "python",
   "nbconvert_exporter": "python",
   "pygments_lexer": "ipython3",
   "version": "3.8.5"
  },
  "latex_envs": {
   "LaTeX_envs_menu_present": true,
   "autoclose": false,
   "autocomplete": true,
   "bibliofile": "biblio.bib",
   "cite_by": "apalike",
   "current_citInitial": 1,
   "eqLabelWithNumbers": true,
   "eqNumInitial": 1,
   "hotkeys": {
    "equation": "Ctrl-E",
    "itemize": "Ctrl-I"
   },
   "labels_anchors": false,
   "latex_user_defs": false,
   "report_style_numbering": false,
   "user_envs_cfg": false
  },
  "toc": {
   "base_numbering": 1,
   "nav_menu": {},
   "number_sections": true,
   "sideBar": true,
   "skip_h1_title": false,
   "title_cell": "Table of Contents",
   "title_sidebar": "Contents",
   "toc_cell": false,
   "toc_position": {},
   "toc_section_display": true,
   "toc_window_display": false
  }
 },
 "nbformat": 4,
 "nbformat_minor": 4
}
