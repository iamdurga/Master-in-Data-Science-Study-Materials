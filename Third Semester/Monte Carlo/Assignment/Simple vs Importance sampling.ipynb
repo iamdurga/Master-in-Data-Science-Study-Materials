{
 "cells": [
  {
   "cell_type": "markdown",
   "metadata": {},
   "source": [
    "\n",
    "\n",
    "# Why we used importance sampling instead of simple sampling\n",
    "\n",
    "In theory, simple sampling techniques can be used to run MC integrations and other simulations. Unfortunately, the majority of the samples generated in this way will only make up a small portion of the equilibrium (time-independent) averages, necessitating the use of more advanced techniques in order to get results that are accurate enough. \"Importance Sampling\" is one of these techniques."
   ]
  },
  {
   "cell_type": "markdown",
   "metadata": {},
   "source": [
    "# Important sampling and simple sampling\n",
    "\n",
    "Consider the integral \n",
    "\n",
    " I = \\(\\int_{0}^{1}\\exp(- x^2) dx\\) \n",
    " \n",
    " To solve from simple sampling we use with chosen pdf p(x) = aexp(-x) such that $x \\in (0,1)$ and \n",
    " \n",
    " I = \\(\\int_{0}^{1}p(x) dx\\) = \\(\\int_{0}^{1}a\\exp(- x) dx\\) = 1 gives,\n",
    " \n",
    " a = e/(e-1), p(x) = exp(-x)/(1-1/e) so,\n",
    " \n",
    " y(x) = \\(\\int_{0}^{x}p(x') dx'\\) = \\(\\int_{0}^{x} dx'exp(-x')*e/(e-1)\\) \n",
    " \n",
    " \n",
    " \n",
    " ### Algorithm\n",
    " 1. start\n",
    " 2. Take a number\n",
    " 3. Initialize a variable for simple sampling\n",
    " 4. Initialize a variable for importance sampling\n",
    " 5. Loop with in the range of given number\n",
    " 6. Take a random variable within given range\n",
    " 7. Increment the simple sampling variable by using given function\n",
    " 8. Increment the important sampling variable by using given function\n",
    " 9. Print the result for both\n",
    " 10. Stop"
   ]
  },
  {
   "cell_type": "code",
   "execution_count": 2,
   "metadata": {
    "ExecuteTime": {
     "end_time": "2022-11-02T01:49:01.124680Z",
     "start_time": "2022-11-02T01:49:01.020961Z"
    }
   },
   "outputs": [
    {
     "name": "stdout",
     "output_type": "stream",
     "text": [
      "Standard monte carlo of given function:0.7473404945388475\n",
      "Standard deviation of simple sampling:0.03980920760794138\n",
      "Standard sampling Monte Carlo estimate of given function:0.7448566453085554\n",
      "Standard deviation of important sampling Monte Carlo:0.007690643209859349\n"
     ]
    }
   ],
   "source": [
    "import matplotlib.pyplot as plt\n",
    "import math\n",
    "import numpy as np\n",
    "import random\n",
    "n = 10000\n",
    "sum = 0.0\n",
    "i = 0\n",
    "summ = 0.0\n",
    "while i <n:\n",
    "    x= random.random()\n",
    "    y = np.exp(-x**2)\n",
    "    sum = sum + y\n",
    "    summ = summ + y *y\n",
    "    i = i + 1\n",
    "MC = sum/n\n",
    "std_MC = summ/n - MC**2\n",
    "print(\"Standard monte carlo of given function:\"+ str(MC))\n",
    "print(\"Standard deviation of simple sampling:\"+ str(std_MC))\n",
    "i = 0\n",
    "sum = 0.0\n",
    "summ = 0.0\n",
    "while i <n:\n",
    "    x = random.random()\n",
    "    y = (np.exp(1.)/(np.exp(1.0)-1)*(1-np.exp(-x)))\n",
    "    f = np.exp(-y**2)/np.exp(-y)\n",
    "    sum = sum + f\n",
    "    summ = summ +f*f\n",
    "    i = i+1\n",
    "meanf = sum/n\n",
    "MCI = meanf*(1.0-np.exp(-1.0))\n",
    "std_MCI = summ/n-meanf**2\n",
    "print(\"Standard sampling Monte Carlo estimate of given function:\" +str(MCI))\n",
    "print(\"Standard deviation of important sampling Monte Carlo:\"+str(std_MCI))"
   ]
  },
  {
   "cell_type": "markdown",
   "metadata": {},
   "source": [
    "# Important sampling and simple sampling for integration Function \n",
    "\n",
    "We have integration function,\n",
    "\n",
    "\\[ \\int_{0}^{\\pi} \\frac{1}{x^2 + cos^2x} \\,dx \\]\n",
    " \n",
    "To solve from simple sampling we use with chosen pdf p(x) = aexp(-x) such that $x \\in (0,1)$ and \n",
    " \n",
    " I = \\(\\int_{0}^{\\pi}p(x) dx\\) = \\(\\int_{0}^{\\pi}a\\exp(- x) dx\\) = 1 gives,\n",
    " \n",
    "$$ a = \\frac{e^\\pi}{(e^\\pi-1)}$$ and $$ p(x) = \\frac{exp(-x)}{(1-\\frac{1}{e^\\pi})}$$ Hence, new function will be,\n",
    "\n",
    "y(x) = \\(\\int_{0}^{x}p(x') dx'\\) = \\(\\int_{0}^{x} dx'exp(-x')*e^\\pi/(e^\\pi-1)\\) \n",
    " \n",
    "\n",
    "\n",
    "\n",
    "### Algorithm\n",
    "\n",
    "1. start\n",
    "2. Take a number\n",
    "3. Initialize a variable for simple sampling\n",
    "4. Initialize a variable for importance sampling\n",
    "5. Loop with in the range of given number\n",
    "6. Take a random variable within given range\n",
    "7. Increment the simple sampling variable by using given function\n",
    "8. Increment the important sampling variable by using given function\n",
    "9. Print the result for both\n",
    "10. Stop\n"
   ]
  },
  {
   "cell_type": "code",
   "execution_count": 8,
   "metadata": {
    "ExecuteTime": {
     "end_time": "2022-10-15T02:39:25.893775Z",
     "start_time": "2022-10-15T02:39:25.237674Z"
    }
   },
   "outputs": [],
   "source": [
    "import scipy as sp\n",
    "from scipy.integrate import quad\n",
    "\n"
   ]
  },
  {
   "cell_type": "code",
   "execution_count": 9,
   "metadata": {
    "ExecuteTime": {
     "end_time": "2022-10-15T02:39:28.994093Z",
     "start_time": "2022-10-15T02:39:28.969792Z"
    }
   },
   "outputs": [
    {
     "data": {
      "text/plain": [
       "1.5811879708477277"
      ]
     },
     "execution_count": 9,
     "metadata": {},
     "output_type": "execute_result"
    }
   ],
   "source": [
    "f = lambda x : 1/(x**2 + np.cos(x)**2)\n",
    "quad(f,0,np.pi)[0]"
   ]
  },
  {
   "cell_type": "code",
   "execution_count": 17,
   "metadata": {
    "ExecuteTime": {
     "end_time": "2022-11-02T16:20:44.380964Z",
     "start_time": "2022-11-02T16:20:44.277540Z"
    }
   },
   "outputs": [
    {
     "name": "stdout",
     "output_type": "stream",
     "text": [
      "Standard monte carlo of given function:0.5018246845058932\n",
      "Standard deviation of simple sampling:0.12047576140446437\n",
      "Standard sampling Monte Carlo estimate of given function:1.7713644315066697\n",
      "Standard deviation of important sampling Monte Carlo:0.09357442195082921\n"
     ]
    }
   ],
   "source": [
    "import matplotlib.pyplot as plt\n",
    "import math\n",
    "import numpy as np\n",
    "import random\n",
    "n = 10000\n",
    "sum = 0.0\n",
    "i = 0\n",
    "summ = 0.0\n",
    "while i <n:\n",
    "    x = random.uniform(0,np.pi)\n",
    "    y = 1.0/(x**2 + np.cos(x)**2)\n",
    "    sum = sum + y\n",
    "    summ = summ + y*y\n",
    "    i = i + 1\n",
    "MC = sum/n\n",
    "std_MC = summ/n - MC**2\n",
    "print(\"Standard monte carlo of given function:\"+ str(MC))\n",
    "print(\"Standard deviation of simple sampling:\"+ str(std_MC))\n",
    "i = 0\n",
    "sum = 0.0\n",
    "summ = 0.0\n",
    "while i <n:\n",
    "    x = random.uniform(0,np.pi)\n",
    "    y = np.exp(np.pi)/(np.exp(np.pi)-1)*(1-np.exp(-x))\n",
    "    f = 1/(y**2 + np.cos(y)**2) *1/np.exp(-y)\n",
    "    sum = sum + f\n",
    "    summ = summ +f*f\n",
    "    i = i+1\n",
    "meanf = sum/n\n",
    "MCI = meanf*(1-np.exp(-np.pi))\n",
    "std_MCI = summ/n-meanf**2\n",
    "print(\"Standard sampling Monte Carlo estimate of given function:\" +str(MCI))\n",
    "print(\"Standard deviation of important sampling Monte Carlo:\"+str(std_MCI))"
   ]
  },
  {
   "cell_type": "markdown",
   "metadata": {},
   "source": [
    "## 6D"
   ]
  },
  {
   "cell_type": "code",
   "execution_count": 1,
   "metadata": {
    "ExecuteTime": {
     "end_time": "2022-11-07T02:07:04.445426Z",
     "start_time": "2022-11-07T02:07:02.407057Z"
    }
   },
   "outputs": [],
   "source": [
    "import random\n",
    "import numpy as np \n",
    "import math\n",
    "import matplotlib.pyplot as plt\n"
   ]
  },
  {
   "cell_type": "code",
   "execution_count": 2,
   "metadata": {
    "ExecuteTime": {
     "end_time": "2022-11-07T02:07:21.639939Z",
     "start_time": "2022-11-07T02:07:21.527687Z"
    }
   },
   "outputs": [
    {
     "name": "stdout",
     "output_type": "stream",
     "text": [
      "Mean :2.292907987406246e-05\n",
      "Standard Deviation:1.575857242833674e-06\n"
     ]
    }
   ],
   "source": [
    "n = 10000\n",
    "summ = 0.0\n",
    "std = 0.0\n",
    "i = 0\n",
    "while i < n:\n",
    "    x1 = random.uniform(-5,5)\n",
    "    #print(x1)\n",
    "    x2 = random.uniform(-5,5)\n",
    "    #print(x2)\n",
    "    x3 = random.uniform(-5,5)\n",
    "    \n",
    "    y1 = random.uniform(-5,5)\n",
    "    #print(y1)\n",
    "    y2 = random.uniform(-5,5)\n",
    "    y3 = random.uniform(-5,5)\n",
    "    f = np.exp(-(x1**2 + x2**2+ x3**2)-(y1**2+y2**2+y3**2)-0.5*((x1-y1)**2+(x2-y2)**2+(x3-y3)**2))\n",
    "    #print(f)\n",
    "    summ = summ + f\n",
    "    #print(summ)\n",
    "    std = std + f*f\n",
    "    #print(std)\n",
    "    i = i + 1\n",
    "    \n",
    "mean = summ/n\n",
    "Sd = std/n - mean**2\n",
    "\n",
    "print(\"Mean :\" +str(mean))\n",
    "print(\"Standard Deviation:\" +str(Sd))\n",
    "    \n",
    "               \n",
    "    \n",
    "    \n"
   ]
  },
  {
   "cell_type": "code",
   "execution_count": null,
   "metadata": {},
   "outputs": [],
   "source": []
  }
 ],
 "metadata": {
  "kernelspec": {
   "display_name": "Python 3",
   "language": "python",
   "name": "python3"
  },
  "language_info": {
   "codemirror_mode": {
    "name": "ipython",
    "version": 3
   },
   "file_extension": ".py",
   "mimetype": "text/x-python",
   "name": "python",
   "nbconvert_exporter": "python",
   "pygments_lexer": "ipython3",
   "version": "3.8.5"
  },
  "latex_envs": {
   "LaTeX_envs_menu_present": true,
   "autoclose": false,
   "autocomplete": true,
   "bibliofile": "biblio.bib",
   "cite_by": "apalike",
   "current_citInitial": 1,
   "eqLabelWithNumbers": true,
   "eqNumInitial": 1,
   "hotkeys": {
    "equation": "Ctrl-E",
    "itemize": "Ctrl-I"
   },
   "labels_anchors": false,
   "latex_user_defs": false,
   "report_style_numbering": false,
   "user_envs_cfg": false
  },
  "toc": {
   "base_numbering": 1,
   "nav_menu": {},
   "number_sections": true,
   "sideBar": true,
   "skip_h1_title": false,
   "title_cell": "Table of Contents",
   "title_sidebar": "Contents",
   "toc_cell": false,
   "toc_position": {},
   "toc_section_display": true,
   "toc_window_display": false
  }
 },
 "nbformat": 4,
 "nbformat_minor": 4
}
