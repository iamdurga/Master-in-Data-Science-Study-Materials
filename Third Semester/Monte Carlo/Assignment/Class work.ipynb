{
 "cells": [
  {
   "cell_type": "markdown",
   "metadata": {},
   "source": [
    "# Write a algorithms to find random numbers \n",
    "\n",
    "using ran = seed  * 16807\n",
    "\n",
    "## Algorithm\n"
   ]
  },
  {
   "cell_type": "markdown",
   "metadata": {},
   "source": [
    "1. You need to produce random number from seed using above formula use following algorithm.\n",
    "* Start\n",
    "* For loop\n",
    "* Define seed\n",
    "* Start Loop\n",
    "* Calculate ran = 16807*seed\n",
    "* Set seed equal to ran for the next iteration of the loop\n",
    "* Print random number you generate \n",
    "* Increase count by 1\n",
    "* stop\n",
    "\n"
   ]
  },
  {
   "cell_type": "markdown",
   "metadata": {},
   "source": [
    "## Code"
   ]
  },
  {
   "cell_type": "code",
   "execution_count": 1,
   "metadata": {
    "ExecuteTime": {
     "end_time": "2022-09-20T01:27:01.770145Z",
     "start_time": "2022-09-20T01:26:58.607613Z"
    }
   },
   "outputs": [],
   "source": [
    "import pandas as pd\n",
    "import matplotlib.pyplot as plt\n"
   ]
  },
  {
   "cell_type": "code",
   "execution_count": 2,
   "metadata": {
    "ExecuteTime": {
     "end_time": "2022-09-20T01:27:01.787703Z",
     "start_time": "2022-09-20T01:27:01.776835Z"
    }
   },
   "outputs": [],
   "source": [
    "seed = 10000\n",
    "count = 0 \n",
    "random1 = []\n",
    "while count<100:\n",
    "    ran = 16807*seed/(2**31)\n",
    "    seed = ran\n",
    "    #ran = ran/2**31\n",
    "    random1.append(ran)\n",
    "    #print(ran)\n",
    "    count+=1\n",
    "    \n",
    "#print(random1)\n",
    "    "
   ]
  },
  {
   "cell_type": "markdown",
   "metadata": {},
   "source": [
    "# Write a algorithm to find random number\n",
    "\n",
    "using ran = (seed* 16807)/(2**31-1)\n",
    "\n",
    "## Algorithm\n",
    "* Start\n",
    "* For loop\n",
    "* Define seed\n",
    "* Start Loop\n",
    "* Calculate ran = (seed* 16807)/(2**31-1)\n",
    "* Set seed equal to ran for the next iteration of the loop\n",
    "* Print random number you generate \n",
    "* Increase count by 1\n",
    "* stop\n",
    "\n",
    "## Code\n"
   ]
  },
  {
   "cell_type": "code",
   "execution_count": 3,
   "metadata": {
    "ExecuteTime": {
     "end_time": "2022-09-20T01:27:01.804666Z",
     "start_time": "2022-09-20T01:27:01.793488Z"
    }
   },
   "outputs": [],
   "source": [
    "seed = 1000\n",
    "count = 0 \n",
    "random2 = []\n",
    "while count<1000:\n",
    "    ran1 = (16807*seed)%((2**31)-1)\n",
    "    seed = ran1\n",
    "    ran1 = ran1/(2**31)\n",
    "    random2.append(ran1 )\n",
    "    #print(ran)\n",
    "    count+=1\n",
    "#print(random2)"
   ]
  },
  {
   "cell_type": "markdown",
   "metadata": {},
   "source": [
    "# Write a algorithm to write two random numbers in a file at a time\n",
    "\n",
    "## Algorithm\n",
    "1. Start\n",
    "2. Import os \n",
    "3. Define function which take random number and file\n",
    "4. Open the file\n",
    "5. Change the number in a list\n",
    "6. Close \n",
    "7. Call function \n",
    "8. Stop"
   ]
  },
  {
   "cell_type": "code",
   "execution_count": 4,
   "metadata": {
    "ExecuteTime": {
     "end_time": "2022-09-20T01:27:02.287373Z",
     "start_time": "2022-09-20T01:27:01.809122Z"
    }
   },
   "outputs": [
    {
     "name": "stdout",
     "output_type": "stream",
     "text": [
      " random1.txt written\n",
      " random2.txt written\n"
     ]
    }
   ],
   "source": [
    "#import os\n",
    "def save_to_file(L,fname):\n",
    "    with open(fname,\"w\") as f:\n",
    "        l = [f.write(f\"{x}\\n\") for x in L]\n",
    "        f.close()\n",
    "    print(f\" {fname } written\" )\n",
    "save_to_file(random1,\"random1.txt\")\n",
    "save_to_file(random2,\"random2.txt\")\n",
    "    "
   ]
  },
  {
   "cell_type": "code",
   "execution_count": 5,
   "metadata": {
    "ExecuteTime": {
     "end_time": "2022-09-20T01:27:02.332696Z",
     "start_time": "2022-09-20T01:27:02.292719Z"
    }
   },
   "outputs": [],
   "source": [
    "seed1 = 1982537\n",
    "random_number1 = []\n",
    "for i in range(10000):\n",
    "    ran = (16807*seed1)%((2**31)-1)\n",
    "    \n",
    "    #ran = ran/(2**31)\n",
    "    random_number1.append(ran)\n",
    "    seed1 = ran\n",
    "#print(random_number1)\n",
    "    "
   ]
  },
  {
   "cell_type": "code",
   "execution_count": 6,
   "metadata": {
    "ExecuteTime": {
     "end_time": "2022-09-20T01:27:02.356525Z",
     "start_time": "2022-09-20T01:27:02.339427Z"
    }
   },
   "outputs": [],
   "source": [
    "seed2 = 1258965\n",
    "random_number2 = []\n",
    "for i in range(10000):\n",
    "    ran1 = (16807*seed2)%((2**31)-1)\n",
    "    \n",
    "    random_number2.append(ran1)\n",
    "    seed2= ran1\n",
    "#print(random_number2)"
   ]
  },
  {
   "cell_type": "markdown",
   "metadata": {},
   "source": [
    "#### Change the number with in the range 0 and 1"
   ]
  },
  {
   "cell_type": "code",
   "execution_count": 7,
   "metadata": {
    "ExecuteTime": {
     "end_time": "2022-09-20T01:27:12.657100Z",
     "start_time": "2022-09-20T01:27:02.360392Z"
    }
   },
   "outputs": [],
   "source": [
    "norm1 = [float(i)/sum(random_number1) for i in random_number1]\n",
    "norm2 = [float(i)/sum(random_number2) for i in random_number2]\n"
   ]
  },
  {
   "cell_type": "code",
   "execution_count": 8,
   "metadata": {
    "ExecuteTime": {
     "end_time": "2022-09-20T01:27:12.681186Z",
     "start_time": "2022-09-20T01:27:12.664356Z"
    }
   },
   "outputs": [],
   "source": [
    "L1  = [x/(2**31) for x in random_number1]\n",
    "L2 = [x/(2**31) for x in random_number2]"
   ]
  },
  {
   "cell_type": "markdown",
   "metadata": {},
   "source": [
    "#### Check the distribution of random numbers you have created.\n",
    "\n",
    "If the plot demonstrates that the distribution of the dots is uniform, then our pseudo-random numbers are successful. We may state that we were able to generate two pseudo random numbers in this situation because the created random numbers are equally distributed."
   ]
  },
  {
   "cell_type": "code",
   "execution_count": 9,
   "metadata": {
    "ExecuteTime": {
     "end_time": "2022-09-20T01:27:13.102396Z",
     "start_time": "2022-09-20T01:27:12.687407Z"
    }
   },
   "outputs": [
    {
     "data": {
      "image/png": "[encoded data removed]",
      "text/plain": [
       "<Figure size 432x288 with 1 Axes>"
      ]
     },
     "metadata": {
      "needs_background": "light"
     },
     "output_type": "display_data"
    }
   ],
   "source": [
    "\n",
    "plt.scatter(L1,L2,s= 0.3)\n",
    "plt.show()"
   ]
  },
  {
   "cell_type": "code",
   "execution_count": 10,
   "metadata": {
    "ExecuteTime": {
     "end_time": "2022-09-20T01:27:13.372360Z",
     "start_time": "2022-09-20T01:27:13.106037Z"
    }
   },
   "outputs": [
    {
     "data": {
      "text/plain": [
       "(array([1011.,  952., 1022.,  934., 1026., 1030., 1012.,  965., 1042.,\n",
       "        1006.]),\n",
       " array([7.74608925e-05, 1.00058720e-01, 2.00039980e-01, 3.00021239e-01,\n",
       "        4.00002498e-01, 4.99983758e-01, 5.99965017e-01, 6.99946276e-01,\n",
       "        7.99927535e-01, 8.99908795e-01, 9.99890054e-01]),\n",
       " <BarContainer object of 10 artists>)"
      ]
     },
     "execution_count": 10,
     "metadata": {},
     "output_type": "execute_result"
    },
    {
     "data": {
      "image/png": "[encoded data removed]",
      "text/plain": [
       "<Figure size 432x288 with 1 Axes>"
      ]
     },
     "metadata": {
      "needs_background": "light"
     },
     "output_type": "display_data"
    }
   ],
   "source": [
    "plt.hist(L1, bins= 10)"
   ]
  },
  {
   "cell_type": "code",
   "execution_count": 11,
   "metadata": {
    "ExecuteTime": {
     "end_time": "2022-09-20T01:27:13.633228Z",
     "start_time": "2022-09-20T01:27:13.377567Z"
    }
   },
   "outputs": [
    {
     "data": {
      "image/png": "[encoded data removed]",
      "text/plain": [
       "<Figure size 432x288 with 1 Axes>"
      ]
     },
     "metadata": {
      "needs_background": "light"
     },
     "output_type": "display_data"
    }
   ],
   "source": [
    "plt.hist(L2, bins=10)\n",
    "plt.show()"
   ]
  },
  {
   "cell_type": "markdown",
   "metadata": {},
   "source": [
    "# Process of Changing Random Number Previously Generated into Gaussion Distribution\n",
    "\n",
    "## Algorithm\n",
    "\n",
    "* Start\n",
    "* For loop\n",
    "* Define seed\n",
    "* Start Loop\n",
    "* Calculate ran1 = (16807*seed2)%((2**31)-1)\n",
    "* Set seed equal to ran for the next iteration of the loop\n",
    "* Print random number you generate \n",
    "* Increase count by 1\n",
    "* Normalize the random number we have created\n",
    "* change the random number into array of number\n",
    "* Use the formula Gauss = $ y = (-2\\log(random1))^\\frac{1}{2} sin(2\\pi \\times random2) $\n",
    "\n"
   ]
  },
  {
   "cell_type": "code",
   "execution_count": 12,
   "metadata": {
    "ExecuteTime": {
     "end_time": "2022-09-20T01:27:13.652167Z",
     "start_time": "2022-09-20T01:27:13.637747Z"
    }
   },
   "outputs": [],
   "source": [
    "import numpy as np\n",
    "arr1 = np.array(L1)\n",
    "arr2 = np.array(L2)\n",
    "ran_guss1 = ((-2*np.log(arr1)))**0.5 *np.cos(2*np.pi*arr2) "
   ]
  },
  {
   "cell_type": "code",
   "execution_count": 13,
   "metadata": {
    "ExecuteTime": {
     "end_time": "2022-09-20T01:27:13.683915Z",
     "start_time": "2022-09-20T01:27:13.661056Z"
    }
   },
   "outputs": [
    {
     "data": {
      "text/plain": [
       "0.5023204679166432"
      ]
     },
     "execution_count": 13,
     "metadata": {},
     "output_type": "execute_result"
    }
   ],
   "source": [
    "mean1 = np.mean(arr1)\n",
    "mean1\n"
   ]
  },
  {
   "cell_type": "code",
   "execution_count": 14,
   "metadata": {
    "ExecuteTime": {
     "end_time": "2022-09-20T01:27:13.697234Z",
     "start_time": "2022-09-20T01:27:13.686923Z"
    }
   },
   "outputs": [
    {
     "data": {
      "text/plain": [
       "0.28839339253937735"
      ]
     },
     "execution_count": 14,
     "metadata": {},
     "output_type": "execute_result"
    }
   ],
   "source": [
    "sd = np.std(arr1)\n",
    "sd"
   ]
  },
  {
   "cell_type": "code",
   "execution_count": 15,
   "metadata": {
    "ExecuteTime": {
     "end_time": "2022-09-20T01:27:13.951698Z",
     "start_time": "2022-09-20T01:27:13.701065Z"
    }
   },
   "outputs": [
    {
     "data": {
      "text/plain": [
       "(array([  15.,  140.,  652., 1719., 2792., 2608., 1508.,  461.,   93.,\n",
       "          12.]),\n",
       " array([-3.64666476, -2.90530181, -2.16393886, -1.42257591, -0.68121297,\n",
       "         0.06014998,  0.80151293,  1.54287588,  2.28423883,  3.02560177,\n",
       "         3.76696472]),\n",
       " <BarContainer object of 10 artists>)"
      ]
     },
     "execution_count": 15,
     "metadata": {},
     "output_type": "execute_result"
    },
    {
     "data": {
      "image/png": "[encoded data removed]",
      "text/plain": [
       "<Figure size 432x288 with 1 Axes>"
      ]
     },
     "metadata": {
      "needs_background": "light"
     },
     "output_type": "display_data"
    }
   ],
   "source": [
    "plt.hist(ran_guss1)"
   ]
  },
  {
   "cell_type": "code",
   "execution_count": 16,
   "metadata": {
    "ExecuteTime": {
     "end_time": "2022-09-20T01:27:14.177383Z",
     "start_time": "2022-09-20T01:27:13.956822Z"
    }
   },
   "outputs": [
    {
     "data": {
      "image/png": "[encoded data removed]",
      "text/plain": [
       "<Figure size 432x288 with 1 Axes>"
      ]
     },
     "metadata": {
      "needs_background": "light"
     },
     "output_type": "display_data"
    }
   ],
   "source": [
    "ran_guss2 = ((-2*np.log(arr1)))**0.5 *np.sin(2*np.pi*arr2) \n",
    "plt.hist(ran_guss2,bins=10)\n",
    "plt.show()"
   ]
  },
  {
   "cell_type": "markdown",
   "metadata": {},
   "source": [
    "# Auto Correlation"
   ]
  },
  {
   "cell_type": "code",
   "execution_count": 17,
   "metadata": {
    "ExecuteTime": {
     "end_time": "2022-09-20T01:27:14.192456Z",
     "start_time": "2022-09-20T01:27:14.179619Z"
    }
   },
   "outputs": [
    {
     "name": "stdout",
     "output_type": "stream",
     "text": [
      "10000\n",
      "9999\n",
      "9999\n",
      "[[ 1.         -0.02857154]\n",
      " [-0.02857154  1.        ]]\n"
     ]
    }
   ],
   "source": [
    "def correlation(arr, lag):\n",
    "    arr = np.array(arr).flatten()\n",
    "    arr1 = arr[:-lag]\n",
    "    arr2 = arr[lag:]\n",
    "    print(len(arr))\n",
    "    print(len(arr1))\n",
    "    print(len(arr2))\n",
    "    print(np.corrcoef(arr1,arr2))\n",
    "    #print(np.correlate(arr1,arr2))\n",
    "correlation(L1,1)\n",
    "    \n",
    "   "
   ]
  },
  {
   "cell_type": "code",
   "execution_count": 18,
   "metadata": {
    "ExecuteTime": {
     "end_time": "2022-09-20T01:27:16.829093Z",
     "start_time": "2022-09-20T01:27:14.195470Z"
    }
   },
   "outputs": [
    {
     "data": {
      "image/png": "[encoded data removed]",
      "text/plain": [
       "<Figure size 432x288 with 1 Axes>"
      ]
     },
     "metadata": {
      "needs_background": "light"
     },
     "output_type": "display_data"
    }
   ],
   "source": [
    "import pandas as pd\n",
    "from matplotlib import pyplot as plt\n",
    "from statsmodels.graphics.tsaplots import plot_acf\n",
    "plot_acf(L1,lags=50)\n",
    "plt.show()"
   ]
  },
  {
   "cell_type": "code",
   "execution_count": 19,
   "metadata": {
    "ExecuteTime": {
     "end_time": "2022-09-20T01:27:17.115786Z",
     "start_time": "2022-09-20T01:27:16.831265Z"
    }
   },
   "outputs": [
    {
     "data": {
      "image/png": "[encoded data removed]",
      "text/plain": [
       "<Figure size 432x288 with 1 Axes>"
      ]
     },
     "metadata": {
      "needs_background": "light"
     },
     "output_type": "display_data"
    }
   ],
   "source": [
    "plot_acf(L2,lags=50)\n",
    "plt.show()"
   ]
  },
  {
   "cell_type": "code",
   "execution_count": 5,
   "metadata": {
    "ExecuteTime": {
     "end_time": "2022-11-01T15:17:13.166917Z",
     "start_time": "2022-11-01T15:17:12.957393Z"
    }
   },
   "outputs": [
    {
     "data": {
      "image/png": "[encoded data removed]",
      "text/plain": [
       "<Figure size 432x288 with 1 Axes>"
      ]
     },
     "metadata": {
      "needs_background": "light"
     },
     "output_type": "display_data"
    }
   ],
   "source": [
    "import matplotlib.pyplot as plt\n",
    "import math\n",
    "import numpy as np\n",
    "import random\n",
    "x = np.linspace(0, 1, 100)\n",
    "y = np.exp(x**2)\n",
    "plt.figure()\n",
    "plt.plot(x,y)\n",
    "plt.show()"
   ]
  },
  {
   "cell_type": "code",
   "execution_count": 7,
   "metadata": {
    "ExecuteTime": {
     "end_time": "2022-11-02T15:33:15.346246Z",
     "start_time": "2022-11-02T15:33:15.340604Z"
    }
   },
   "outputs": [],
   "source": [
    "import random\n",
    "import numpy as np \n",
    "import math\n",
    "import matplotlib.pyplot as plt\n"
   ]
  },
  {
   "cell_type": "code",
   "execution_count": 17,
   "metadata": {
    "ExecuteTime": {
     "end_time": "2022-11-02T15:49:19.126245Z",
     "start_time": "2022-11-02T15:49:19.052022Z"
    }
   },
   "outputs": [
    {
     "name": "stdout",
     "output_type": "stream",
     "text": [
      "Mean :1.1369804351317733e-05\n",
      "Standard Deviation:3.9061938269865794e-07\n"
     ]
    }
   ],
   "source": [
    "n = 10000\n",
    "summ = 0.0\n",
    "std = 0.0\n",
    "i = 0\n",
    "while i < n:\n",
    "    x1 = random.uniform(-5,5)\n",
    "    #print(x1)\n",
    "    x2 = random.uniform(-5,5)\n",
    "    #print(x2)\n",
    "    x3 = random.uniform(-5,5)\n",
    "    \n",
    "    y1 = random.uniform(-5,5)\n",
    "    #print(y1)\n",
    "    y2 = random.uniform(-5,5)\n",
    "    y3 = random.uniform(-5,5)\n",
    "    f = np.exp(-(x1**2 + x2**2+ x3**2)-(y1**2+y2**2+y3**2)-0.5*((x1-y1)**2+(x2-y2)**2+(x3-y3)**2))\n",
    "    #print(f)\n",
    "    summ = summ + f\n",
    "    #print(summ)\n",
    "    std = std + f*f\n",
    "    #print(std)\n",
    "    i = i + 1\n",
    "    \n",
    "mean = summ/n\n",
    "Sd = std/n - mean**2\n",
    "\n",
    "print(\"Mean :\" +str(mean))\n",
    "print(\"Standard Deviation:\" +str(Sd))\n",
    "    \n",
    "               \n",
    "    \n",
    "    \n"
   ]
  },
  {
   "cell_type": "code",
   "execution_count": 3,
   "metadata": {
    "ExecuteTime": {
     "end_time": "2022-11-02T11:10:03.533472Z",
     "start_time": "2022-11-02T11:10:03.512072Z"
    }
   },
   "outputs": [
    {
     "data": {
      "text/plain": [
       "-4.734210711496515"
      ]
     },
     "execution_count": 3,
     "metadata": {},
     "output_type": "execute_result"
    }
   ],
   "source": []
  },
  {
   "cell_type": "code",
   "execution_count": null,
   "metadata": {},
   "outputs": [],
   "source": []
  }
 ],
 "metadata": {
  "kernelspec": {
   "display_name": "Python 3",
   "language": "python",
   "name": "python3"
  },
  "language_info": {
   "codemirror_mode": {
    "name": "ipython",
    "version": 3
   },
   "file_extension": ".py",
   "mimetype": "text/x-python",
   "name": "python",
   "nbconvert_exporter": "python",
   "pygments_lexer": "ipython3",
   "version": "3.8.5"
  },
  "latex_envs": {
   "LaTeX_envs_menu_present": true,
   "autoclose": false,
   "autocomplete": true,
   "bibliofile": "biblio.bib",
   "cite_by": "apalike",
   "current_citInitial": 1,
   "eqLabelWithNumbers": true,
   "eqNumInitial": 1,
   "hotkeys": {
    "equation": "Ctrl-E",
    "itemize": "Ctrl-I"
   },
   "labels_anchors": false,
   "latex_user_defs": false,
   "report_style_numbering": false,
   "user_envs_cfg": false
  },
  "toc": {
   "base_numbering": 1,
   "nav_menu": {},
   "number_sections": true,
   "sideBar": true,
   "skip_h1_title": false,
   "title_cell": "Table of Contents",
   "title_sidebar": "Contents",
   "toc_cell": false,
   "toc_position": {},
   "toc_section_display": true,
   "toc_window_display": false
  }
 },
 "nbformat": 4,
 "nbformat_minor": 4
}
