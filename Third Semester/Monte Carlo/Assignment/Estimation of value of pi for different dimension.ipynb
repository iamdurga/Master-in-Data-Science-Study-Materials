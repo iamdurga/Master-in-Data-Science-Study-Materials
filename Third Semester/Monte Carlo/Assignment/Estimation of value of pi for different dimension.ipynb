{
 "cells": [
  {
   "cell_type": "markdown",
   "metadata": {},
   "source": [
    "# Estimation of Value of Pi From Area of Circle in Two Dimension Using Monte Carlo\n",
    "\n",
    "Here, we have value of hypersphere in n dimension \n",
    "\n",
    "$$ V_n(R) = \\frac{\\pi^\\frac{n}{2}}{\\frac{n}{2}!}R^n $$ \n",
    "\n",
    "When n = 2, then above equation becomes, \n",
    "$$ V_2(R) = \\frac{\\pi^\\frac{2}{2}}{\\frac{2}{2}!}R^2 $$ \n",
    "$$ V_2(R) = \\pi R^2 $$ \n",
    "\n",
    "In a 2-D plane, the goal is to mimic random (x, y) points with a domain that is a square of 2r units centered on (0,0). Consider an inscribed square-shaped circle with the same radius r inside the same domain. The ratio between the number of points inside the circle and the overall number of generated points is then determined.\n",
    "\n",
    "In our case \n",
    "r = 1  radius of circle\n",
    "\n",
    "L = 2r  length of square\n",
    "\n",
    "v = L^2 volume of square = 4\n",
    "\n",
    "In 2D \n",
    "\n",
    "v = 𝜋𝑅2\n",
    "\n",
    "𝜋 = 4  \n",
    "\n",
    "\n",
    "\n",
    "\n"
   ]
  },
  {
   "cell_type": "code",
   "execution_count": null,
   "metadata": {},
   "outputs": [],
   "source": [
    "import random\n",
    "import math\n",
    "import numpy as np\n",
    "import matplotlib.pyplot as plt"
   ]
  },
  {
   "cell_type": "code",
   "execution_count": 63,
   "metadata": {
    "ExecuteTime": {
     "end_time": "2022-10-07T12:35:07.805408Z",
     "start_time": "2022-10-07T12:35:07.564482Z"
    }
   },
   "outputs": [
    {
     "name": "stdout",
     "output_type": "stream",
     "text": [
      "Calculated value of pi: 3.04\n",
      "Estimated value of error: 0.10159200000000013\n",
      "Calculated value of pi: 3.164\n",
      "Estimated value of error: 0.022407999999999983\n",
      "Calculated value of pi: 3.1504\n",
      "Estimated value of error: 0.008807999999999705\n",
      "Calculated value of pi: 3.14332\n",
      "Estimated value of error: 0.0017279999999999518\n",
      "Calculated value of pi: 3.1496\n",
      "Estimated value of error: 0.008007999999999793\n"
     ]
    }
   ],
   "source": [
    "\n",
    "N = [100,1000,10000,100000,100000]\n",
    "E = []\n",
    "\n",
    "true_value = 3.141592\n",
    "for j in range(len(N)):\n",
    "    c= 0\n",
    "    s = 0\n",
    "    I = 0\n",
    "    \n",
    "    for i in range(N[j]):\n",
    "        x = random.random()\n",
    "        y = random.random()\n",
    "        d = x*x + y*y\n",
    "        if d <= 1:\n",
    "            c +=1\n",
    "        s +=1\n",
    "        I += 1\n",
    "\n",
    "    pi = 4 * (c/s)\n",
    "    print(f'Calculated value of pi: {pi}')\n",
    "    error = abs(pi - true_value)\n",
    "    print(f'Estimated value of error: {error}')\n",
    "    E.append(error)\n",
    "    \n",
    "\n",
    "    \n",
    "\n",
    "    \n",
    "    \n",
    "    \n",
    "    \n",
    "    "
   ]
  },
  {
   "cell_type": "markdown",
   "metadata": {},
   "source": [
    "# Plot of Number VS Error"
   ]
  },
  {
   "cell_type": "code",
   "execution_count": 64,
   "metadata": {
    "ExecuteTime": {
     "end_time": "2022-10-07T12:35:12.766942Z",
     "start_time": "2022-10-07T12:35:12.599433Z"
    }
   },
   "outputs": [
    {
     "data": {
      "text/plain": [
       "Text(0, 0.5, 'Value of Error')"
      ]
     },
     "execution_count": 64,
     "metadata": {},
     "output_type": "execute_result"
    },
    {
     "data": {
      "image/png": "[encoded data removed]",
      "text/plain": [
       "<Figure size 432x288 with 1 Axes>"
      ]
     },
     "metadata": {
      "needs_background": "light"
     },
     "output_type": "display_data"
    }
   ],
   "source": [
    "plt.plot(N,E)\n",
    "plt.title(\"Plot of Error\")\n",
    "plt.xlabel(\"Value of N\")\n",
    "plt.ylabel(\"Value of Error\")"
   ]
  },
  {
   "cell_type": "markdown",
   "metadata": {},
   "source": [
    "# Estimation of Value of Pi From Volume of Sphere in Three Dimension\n",
    "Here, we have value of hypersphere in n dimension \n",
    "\n",
    "$$ V_n(R) = \\frac{\\pi^\\frac{n}{2}}{\\frac{n}{2}!}R^n $$ \n",
    "\n",
    "When n = 3, then above equation becomes, \n",
    "$$ V_3(R) = \\frac{\\pi^\\frac{3}{2}}{\\frac{3}{2}!}R^3 $$ \n",
    "$$ V_3(R) =0.752252 \\pi^\\frac{3}{2} R^3 $$\n",
    "\n",
    "In our case \n",
    "r = 1  radius of circle\n",
    "\n",
    "L = 2r  length of square\n",
    "\n",
    "v = L^3 volume of square = 8\n",
    "\n",
    "In 3D \n",
    "\n",
    "v = 4/3𝜋𝑅3\n",
    "\n",
    "8 = 4/3 𝜋\n",
    "\n",
    "𝜋 = 6"
   ]
  },
  {
   "cell_type": "code",
   "execution_count": 65,
   "metadata": {
    "ExecuteTime": {
     "end_time": "2022-10-07T12:35:15.645654Z",
     "start_time": "2022-10-07T12:35:15.533193Z"
    }
   },
   "outputs": [
    {
     "name": "stdout",
     "output_type": "stream",
     "text": [
      "Calculated value of pi: 3.24\n",
      "Estimated value of error: 0.10000000000000009\n",
      "Calculated value of pi: 3.186\n",
      "Estimated value of error: 0.04599999999999982\n",
      "Calculated value of pi: 3.189\n",
      "Estimated value of error: 0.04899999999999993\n",
      "Calculated value of pi: 3.1386000000000003\n",
      "Estimated value of error: 0.0013999999999998458\n"
     ]
    }
   ],
   "source": [
    "import random\n",
    "N = [100,1000,10000,100000]\n",
    "E = []\n",
    "true_value = 3.14\n",
    "for i in range(len(N)):\n",
    "        I = 0\n",
    "        for j in range(N[i]):\n",
    "            x = random.random()\n",
    "            y = random.random()\n",
    "            z = random.random()\n",
    "\n",
    "            r = x**2 + y**2+ z**2\n",
    "            if r<1:\n",
    "                I = I + 1\n",
    "\n",
    "\n",
    "\n",
    "        ratio = I/N[i]\n",
    "        Pi = ratio * 6\n",
    "        print(f'Calculated value of pi: {Pi}')\n",
    "        error = abs(Pi - true_value)\n",
    "        print(f'Estimated value of error: {error}')\n",
    "        E.append(error)\n",
    "                "
   ]
  },
  {
   "cell_type": "markdown",
   "metadata": {},
   "source": [
    "# Plot of Number VS Error"
   ]
  },
  {
   "cell_type": "code",
   "execution_count": 66,
   "metadata": {
    "ExecuteTime": {
     "end_time": "2022-10-07T12:35:22.037100Z",
     "start_time": "2022-10-07T12:35:21.918474Z"
    }
   },
   "outputs": [
    {
     "data": {
      "text/plain": [
       "Text(0, 0.5, 'Value of Error')"
      ]
     },
     "execution_count": 66,
     "metadata": {},
     "output_type": "execute_result"
    },
    {
     "data": {
      "image/png": "[encoded data removed]",
      "text/plain": [
       "<Figure size 432x288 with 1 Axes>"
      ]
     },
     "metadata": {
      "needs_background": "light"
     },
     "output_type": "display_data"
    }
   ],
   "source": [
    "plt.plot(N,E)\n",
    "plt.title(\"Plot of Error\")\n",
    "plt.xlabel(\"Value of N\")\n",
    "plt.ylabel(\"Value of Error\")"
   ]
  },
  {
   "cell_type": "markdown",
   "metadata": {},
   "source": [
    "# Estimation of Value of Pi From Area of Circle in Four Dimension\n",
    "\n",
    "Here, we have value of hypersphere in n dimension \n",
    "\n",
    "$$ V_n(R) = \\frac{\\pi^\\frac{n}{2}}{\\frac{n}{2}!}R^n $$ \n",
    "\n",
    "When n = 4, then above equation becomes, \n",
    "$$ V_4(R) = \\frac{\\pi^\\frac{4}{2}}{\\frac{4}{2}!}R^4 $$ \n",
    "$$ V_4(R) = \\frac{1}{2}(\\pi R^2 )^2$$ \n",
    "\n",
    "In our case \n",
    "r = 1  radius of circle\n",
    "\n",
    "L = 2r  length of square\n",
    "\n",
    "v = L^3 volume of square = 16\n",
    "\n",
    "In 4D \n",
    "\n",
    "v = 1/2 𝜋2𝑅4\n",
    "\n",
    "16 = 1/2 𝜋2\n",
    "\n",
    "𝜋 = 32^0.5\n",
    "\n",
    "\n",
    "\n",
    "\n",
    "\n"
   ]
  },
  {
   "cell_type": "markdown",
   "metadata": {},
   "source": [
    "# Estimation of Value of Pi from the integration function \n",
    " $\\pi = \\int_{0}^1 \\frac{1}{1+ x^2}dx $\n",
    " By Hand \n",
    " \n",
    " $ = [tan^-(x)]_{0}^1 $\n",
    " \n",
    " $ = tan^-(1) - tan^-(0)$\n",
    " \n",
    " $ = \\pi - 0 $\n",
    " $ = 3.141592653589793238  $\n",
    " "
   ]
  },
  {
   "cell_type": "markdown",
   "metadata": {},
   "source": [
    "# Estimation of value of pi using Integration Method \n",
    "\n",
    "**Algorithm:**\n",
    "1. Import random\n",
    "\n",
    "2. Import math\n",
    "\n",
    "3. Import numpy\n",
    "\n",
    "4. a = 0\n",
    "\n",
    "5. b = 1\n",
    "\n",
    "6. integral = 0\n",
    "\n",
    "7. i = 0\n",
    "\n",
    "8. while i < 1000\n",
    "\n",
    "9. x = random.random()\n",
    "\n",
    "10. integral += 1/1 + x**2\n",
    "\n",
    "11. i = i + 1\n",
    "\n",
    "12. ans = integral* (b-a)/float(N)\n",
    "\n",
    "13. Print(ans)\n"
   ]
  },
  {
   "cell_type": "code",
   "execution_count": 19,
   "metadata": {
    "ExecuteTime": {
     "end_time": "2022-09-29T02:34:57.070289Z",
     "start_time": "2022-09-29T02:34:56.358985Z"
    }
   },
   "outputs": [
    {
     "name": "stdout",
     "output_type": "stream",
     "text": [
      "True Value of Pi\n",
      "3.141592653589793\n",
      "Calclated Value of Pi : 3.2079305434667744\n",
      "Calclated Value of Pi : 3.1171874694431705\n",
      "Calclated Value of Pi : 3.141631082310233\n",
      "Calclated Value of Pi : 3.138488698353392\n",
      "Calclated Value of Pi : 3.14167462845529\n",
      "Error Value of pi: [0.0663378898769813, 0.024405184146622627, 3.8428720440020214e-05, 0.003103955236400946, 8.197486549699207e-05]\n"
     ]
    }
   ],
   "source": [
    "\n",
    "N = [100,1000,10000,100000,1000000]\n",
    "print(\"True Value of Pi\")\n",
    "true_value = 3.141592653589793238\n",
    "print(true_value)\n",
    "Error = []\n",
    "for i in range(len(N)):\n",
    "    a = 0\n",
    "    b = 1\n",
    "    integral = 0\n",
    "    for j in range(N[i]):\n",
    "        x = random.random()\n",
    "        integral += 4 * 1/(1 + x**2)\n",
    "        ans = integral * (b-a)/float(N[i])\n",
    "    error = abs(ans - true_value)\n",
    "    Error.append(error)\n",
    "    #print(ans)\n",
    "    print(f'Calclated Value of Pi : {ans}')\n",
    "print(f'Error Value of pi: {Error}')"
   ]
  },
  {
   "cell_type": "markdown",
   "metadata": {},
   "source": [
    "# Plot of Number Vs Error"
   ]
  },
  {
   "cell_type": "code",
   "execution_count": 20,
   "metadata": {
    "ExecuteTime": {
     "end_time": "2022-09-29T02:35:00.629211Z",
     "start_time": "2022-09-29T02:35:00.516280Z"
    }
   },
   "outputs": [
    {
     "data": {
      "text/plain": [
       "[<matplotlib.lines.Line2D at 0x2054093c490>]"
      ]
     },
     "execution_count": 20,
     "metadata": {},
     "output_type": "execute_result"
    },
    {
     "data": {
      "image/png": "[encoded data removed]",
      "text/plain": [
       "<Figure size 432x288 with 1 Axes>"
      ]
     },
     "metadata": {
      "needs_background": "light"
     },
     "output_type": "display_data"
    }
   ],
   "source": [
    "plt.plot(N,E)\n",
    "plt.title(\"Plot of Error\")\n",
    "plt.xlabel(\"Value of N\")\n",
    "plt.ylabel(\"Value of Error\")"
   ]
  },
  {
   "cell_type": "code",
   "execution_count": null,
   "metadata": {},
   "outputs": [],
   "source": []
  },
  {
   "cell_type": "code",
   "execution_count": null,
   "metadata": {},
   "outputs": [],
   "source": []
  }
 ],
 "metadata": {
  "kernelspec": {
   "display_name": "Python 3",
   "language": "python",
   "name": "python3"
  },
  "language_info": {
   "codemirror_mode": {
    "name": "ipython",
    "version": 3
   },
   "file_extension": ".py",
   "mimetype": "text/x-python",
   "name": "python",
   "nbconvert_exporter": "python",
   "pygments_lexer": "ipython3",
   "version": "3.8.5"
  },
  "latex_envs": {
   "LaTeX_envs_menu_present": true,
   "autoclose": false,
   "autocomplete": true,
   "bibliofile": "biblio.bib",
   "cite_by": "apalike",
   "current_citInitial": 1,
   "eqLabelWithNumbers": true,
   "eqNumInitial": 1,
   "hotkeys": {
    "equation": "Ctrl-E",
    "itemize": "Ctrl-I"
   },
   "labels_anchors": false,
   "latex_user_defs": false,
   "report_style_numbering": false,
   "user_envs_cfg": false
  },
  "toc": {
   "base_numbering": 1,
   "nav_menu": {},
   "number_sections": true,
   "sideBar": true,
   "skip_h1_title": false,
   "title_cell": "Table of Contents",
   "title_sidebar": "Contents",
   "toc_cell": false,
   "toc_position": {
    "height": "calc(100% - 180px)",
    "left": "10px",
    "top": "150px",
    "width": "299.2px"
   },
   "toc_section_display": true,
   "toc_window_display": true
  }
 },
 "nbformat": 4,
 "nbformat_minor": 4
}
