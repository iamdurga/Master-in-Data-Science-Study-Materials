{
 "cells": [
  {
   "cell_type": "markdown",
   "metadata": {},
   "source": [
    "# Programming Assignment\n"
   ]
  },
  {
   "cell_type": "markdown",
   "metadata": {},
   "source": [
    "## Write a program display “Hello World!”."
   ]
  },
  {
   "cell_type": "code",
   "execution_count": 1,
   "metadata": {
    "ExecuteTime": {
     "end_time": "2022-04-20T02:34:01.586045Z",
     "start_time": "2022-04-20T02:34:01.576550Z"
    }
   },
   "outputs": [
    {
     "name": "stdout",
     "output_type": "stream",
     "text": [
      "Hello World!\n"
     ]
    }
   ],
   "source": [
    "print(\"Hello World!\")"
   ]
  },
  {
   "cell_type": "markdown",
   "metadata": {},
   "source": [
    "## Write a program to find sum of two numbers. Use input() function to take input from the user."
   ]
  },
  {
   "cell_type": "code",
   "execution_count": 2,
   "metadata": {
    "ExecuteTime": {
     "end_time": "2022-04-20T02:36:45.219716Z",
     "start_time": "2022-04-20T02:36:40.479287Z"
    }
   },
   "outputs": [
    {
     "name": "stdout",
     "output_type": "stream",
     "text": [
      "Please Enter Your First Number: 45\n",
      "Please Enter Your Second Number: 50\n",
      "Sum of Number1 and Number2 is:  95\n"
     ]
    }
   ],
   "source": [
    "number1 = int(input(\"Please Enter Your First Number: \"))\n",
    "number2 = int(input(\"Please Enter Your Second Number: \"))\n",
    "add = number1 + number2\n",
    "print(\"Sum of Number1 and Number2 is: \", add)"
   ]
  },
  {
   "cell_type": "markdown",
   "metadata": {},
   "source": [
    "## Write a program to calculate discount on the basis of following assumption:\n",
    "* If purchased amount is greater than or equal to 1000, discount is 5%"
   ]
  },
  {
   "cell_type": "code",
   "execution_count": 4,
   "metadata": {
    "ExecuteTime": {
     "end_time": "2022-04-20T02:42:42.182702Z",
     "start_time": "2022-04-20T02:42:38.536149Z"
    }
   },
   "outputs": [
    {
     "name": "stdout",
     "output_type": "stream",
     "text": [
      "Please Enter Your Amount: 1000\n",
      "Your Total Price is:  950.0\n"
     ]
    }
   ],
   "source": [
    "amount = int(input(\"Please Enter Your Amount: \"))\n",
    "if amount >= 1000:\n",
    "    discount = amount * 0.05\n",
    "    result = amount - discount\n",
    "    print(\"Your Total Price is: \", result)\n",
    "else:\n",
    "    print(\"Your Total Price is: \", amount)\n",
    "    \n"
   ]
  },
  {
   "cell_type": "markdown",
   "metadata": {},
   "source": [
    "## Write a program to calculate discount on the basis of following assumption:\n",
    "* If purchased amount is greater than or equal to 1000, discount is 5%\n",
    "* If purchased amount is less than 1000, discount is 3%"
   ]
  },
  {
   "cell_type": "code",
   "execution_count": 6,
   "metadata": {
    "ExecuteTime": {
     "end_time": "2022-04-20T02:45:30.308775Z",
     "start_time": "2022-04-20T02:45:27.572615Z"
    }
   },
   "outputs": [
    {
     "name": "stdout",
     "output_type": "stream",
     "text": [
      "Please Enter Your Amount: 1000\n",
      "Your Total Price is:  950.0\n"
     ]
    }
   ],
   "source": [
    "amount = int(input(\"Please Enter Your Amount: \"))\n",
    "if amount >= 1000:\n",
    "    discount = amount * 0.05\n",
    "    result = amount - discount\n",
    "    print(\"Your Total Price is: \", result)\n",
    "else:\n",
    "    discount = amount * 0.03\n",
    "    result = amount - discount\n",
    "    print(\"Your Total Price is: \", result)"
   ]
  },
  {
   "cell_type": "markdown",
   "metadata": {},
   "source": [
    "## Write a program to calculate discount on the basis of following assumption:\n",
    "* If purchased amount is greater than or equal to 5000, discount is 10%\n",
    "* If purchased amount is greater than or equal to 4000 and less than 5000, discount is 7%\n",
    "* If purchased amount is greater than or equal to 3000 and less than 4000, discount is 5%\n",
    "* If purchased amount is greater than or equal to 2000 and less than 3000, discount is 3%\n",
    "* If purchased amount is less than 2000, discount is 2%"
   ]
  },
  {
   "cell_type": "code",
   "execution_count": 14,
   "metadata": {
    "ExecuteTime": {
     "end_time": "2022-04-20T02:53:08.900037Z",
     "start_time": "2022-04-20T02:53:05.368446Z"
    }
   },
   "outputs": [
    {
     "name": "stdout",
     "output_type": "stream",
     "text": [
      "Please Enter Your Amount: 3500\n",
      "Your Total Price is:  3255.0\n"
     ]
    }
   ],
   "source": [
    "amount = int(input(\"Please Enter Your Amount: \"))\n",
    "if amount >= 5000:\n",
    "    discount = amount * 0.1\n",
    "    result = amount - discount\n",
    "    print(\"Your Total Price is: \", result)\n",
    "\n",
    "elif amount >= 4000 or amount < 5000:\n",
    "    discount = amount * 0.07\n",
    "    result = amount - discount\n",
    "    print(\"Your Total Price is: \", result)\n",
    "\n",
    "elif amount >= 3000 or amount < 4000:\n",
    "    discount = amount * 0.05\n",
    "    result = amount - discount\n",
    "    print(\"Your Total Price is: \", result)\n",
    "\n",
    "\n",
    "elif amount >= 2000 or amount < 3000:\n",
    "    discount = amount * 0.03\n",
    "    result = amount - discount\n",
    "    print(\"Your Total Price is: \", result)\n",
    "    \n",
    "else:\n",
    "    discount = amount * 0.02\n",
    "    result = amount - discount\n",
    "    print(\"Your Total Price is: \", result)\n"
   ]
  },
  {
   "cell_type": "markdown",
   "metadata": {},
   "source": [
    "## Write a program to calculate the simple interest on the basis of following assumption:\n",
    "* If balance is greater than 99999, interest is 7 %\n",
    "* If balance is greater than or equal to 50000 and less than 100000 interest is 5 %\n",
    "* If balance is less than 50000, interest is 3%"
   ]
  },
  {
   "cell_type": "code",
   "execution_count": 24,
   "metadata": {
    "ExecuteTime": {
     "end_time": "2022-04-20T03:06:23.110701Z",
     "start_time": "2022-04-20T03:06:19.002474Z"
    }
   },
   "outputs": [
    {
     "name": "stdout",
     "output_type": "stream",
     "text": [
      "Please Enter Your Balance: 50000\n",
      "Your Simple Intrest is :  35.00000000000001\n"
     ]
    }
   ],
   "source": [
    "balance = int(input(\"Please Enter Your Balance: \"))\n",
    "time = 1\n",
    "rate = [0.07, 0.05, 0.03]\n",
    "\n",
    "if balance <= 99999:\n",
    "    simple_intrest = (balance*time*rate[0])/100\n",
    "    print(\"Your Simple Intrest is : \",simple_intrest)\n",
    "    \n",
    "elif balance >= 50000 and balance <= 100000:\n",
    "    simple_intrest = (balance*time*rate[1])/100\n",
    "    print(\"Your Simple Intrest is : \",simple_intrest)\n",
    "    \n",
    "else:\n",
    "    simple_intrest = (balance*time*rate[2])/100\n",
    "    print(\"Your Simple Intrest is : \",simple_intrest)\n",
    "    \n",
    "    \n",
    "    \n",
    "    \n",
    "    "
   ]
  },
  {
   "cell_type": "markdown",
   "metadata": {},
   "source": [
    "## Write a program to test whether a number is even or odd."
   ]
  },
  {
   "cell_type": "code",
   "execution_count": 26,
   "metadata": {
    "ExecuteTime": {
     "end_time": "2022-04-20T03:08:44.010974Z",
     "start_time": "2022-04-20T03:08:41.826655Z"
    }
   },
   "outputs": [
    {
     "name": "stdout",
     "output_type": "stream",
     "text": [
      "Please Enter Your Number: 101\n",
      "Number You Enter is odd\n"
     ]
    }
   ],
   "source": [
    "number = int(input(\"Please Enter Your Number: \"))\n",
    "\n",
    "if number % 2== 0:\n",
    "    print(\"Number You Enter is Even\")\n",
    "else:\n",
    "     print(\"Number You Enter is odd\")\n",
    "    "
   ]
  },
  {
   "cell_type": "markdown",
   "metadata": {},
   "source": [
    "## 8.Admission to a professional course is subject to the following conditions:\n",
    "* Marks in mathematics>=60\n",
    "* Marks in physics>=50\n",
    "* Marks in chemistry>=40\n",
    "* Total in all three subjects>=200\n",
    "\n",
    "Or\n",
    "\n",
    "\n",
    "Total in mathematics and physics>=150Given the marks in three subjects, write a program to process the applications to list eligible candidates."
   ]
  },
  {
   "cell_type": "code",
   "execution_count": 35,
   "metadata": {
    "ExecuteTime": {
     "end_time": "2022-04-20T03:22:13.239898Z",
     "start_time": "2022-04-20T03:22:07.228400Z"
    }
   },
   "outputs": [
    {
     "name": "stdout",
     "output_type": "stream",
     "text": [
      "Plase Enter The Mask You Obtain in Mathematics: 100\n",
      "Plase Enter The Mask You Obtain in Physics: 50\n",
      "Plase Enter The Mask You Obtain in Chemistry: 15\n",
      "You are The Elligible Candidates for This Course\n"
     ]
    }
   ],
   "source": [
    "mask_of_mathematics = float(input(\"Plase Enter The Mask You Obtain in Mathematics: \"))\n",
    "mask_of_physics = float(input(\"Plase Enter The Mask You Obtain in Physics: \"))\n",
    "mask_of_chemistry = float(input(\"Plase Enter The Mask You Obtain in Chemistry: \"))\n",
    "total_mask = mask_of_mathematics + mask_of_physics + mask_of_chemistry\n",
    "total_mask_in_math_physics = mask_of_mathematics + mask_of_physics\n",
    "\n",
    "if total_mask >= 200:\n",
    "    print(\" Congratulations!! You are The Elligible Candidates for This Course\")\n",
    "\n",
    "    \n",
    "if total_mask_in_math_physics >= 150:\n",
    "     print(\"You are The Elligible Candidates for This Course\")\n",
    "else:\n",
    "     print(\"Sorry, Plase Try Next Time: \")\n",
    "    \n",
    "    "
   ]
  },
  {
   "cell_type": "markdown",
   "metadata": {},
   "source": [
    "## The rates of tax on gross salary are as shown below:\n",
    "| Income | Tax | \n",
    "| --- | --- | \n",
    "|Less than 10,000 | Nill |\n",
    "|Rs. 10,000 to 19,999 |  10% |\n",
    "|Rs. 20,000 to 39,999  | 15% |\n",
    "|Rs. 40,000 to above  | 20% |\n",
    "\n",
    "Write a program to compute the net salary after  deducting the tax for the given information and print the same.\n"
   ]
  },
  {
   "cell_type": "code",
   "execution_count": 22,
   "metadata": {
    "ExecuteTime": {
     "end_time": "2022-04-20T03:51:42.158398Z",
     "start_time": "2022-04-20T03:51:39.018695Z"
    }
   },
   "outputs": [
    {
     "name": "stdout",
     "output_type": "stream",
     "text": [
      "Please Enter Your Salary: 200\n",
      "Your Net Salary is:  200.0\n"
     ]
    }
   ],
   "source": [
    "salary = float(input(\"Please Enter Your Salary: \"))\n",
    "\n",
    "\n",
    "if salary <=10000:\n",
    "    print(\"Your Net Salary is: \", salary)\n",
    "    \n",
    "elif salary >= 40000:\n",
    "    tax = salary * 0.2\n",
    "    net_salary = salary - tax\n",
    "    print(\"Your Net Salary is: \", net_salary)\n",
    "\n",
    "elif salary >= 20000 or salary <= 39999:\n",
    "    tax = salary * 0.15\n",
    "    net_salary = salary - tax\n",
    "    print(\"Your Net Salary is: \", net_salary)\n",
    "\n",
    "elif salary >= 10000 or salary <= 19999:\n",
    "    tax = salary * 0.1\n",
    "    net_salary = salary - tax\n",
    "    print(\"Your Net Salary is: \", net_salary)\n",
    "\n",
    "\n",
    "\n",
    "    \n",
    "\n"
   ]
  },
  {
   "cell_type": "markdown",
   "metadata": {},
   "source": [
    "## Write a program to display “SMS, TU” 10 times."
   ]
  },
  {
   "cell_type": "code",
   "execution_count": 23,
   "metadata": {
    "ExecuteTime": {
     "end_time": "2022-04-20T03:57:26.208398Z",
     "start_time": "2022-04-20T03:57:26.196191Z"
    }
   },
   "outputs": [
    {
     "name": "stdout",
     "output_type": "stream",
     "text": [
      "SMS,TU\n",
      "SMS,TU\n",
      "SMS,TU\n",
      "SMS,TU\n",
      "SMS,TU\n",
      "SMS,TU\n",
      "SMS,TU\n",
      "SMS,TU\n",
      "SMS,TU\n",
      "SMS,TU\n"
     ]
    }
   ],
   "source": [
    "for i in range(10):\n",
    "    print(\"SMS,TU\")"
   ]
  },
  {
   "cell_type": "markdown",
   "metadata": {},
   "source": [
    "## Write a program to find sum and average of 10 numbers stored in a list."
   ]
  },
  {
   "cell_type": "code",
   "execution_count": 29,
   "metadata": {
    "ExecuteTime": {
     "end_time": "2022-04-20T04:01:55.471429Z",
     "start_time": "2022-04-20T04:01:55.455413Z"
    }
   },
   "outputs": [
    {
     "name": "stdout",
     "output_type": "stream",
     "text": [
      "55\n",
      "5.5\n"
     ]
    }
   ],
   "source": [
    "numbers = [1,2,3,4,5,6,7,8,9,10]\n",
    "add = 0\n",
    "length = len(numbers)\n",
    "for i in numbers:\n",
    "    add = add + i\n",
    "    average = add/ length\n",
    "print(add)\n",
    "print(average)\n",
    "    \n"
   ]
  },
  {
   "cell_type": "markdown",
   "metadata": {},
   "source": [
    "## Write a program to display prime numbers up to 100."
   ]
  },
  {
   "cell_type": "code",
   "execution_count": 59,
   "metadata": {
    "ExecuteTime": {
     "end_time": "2022-04-20T04:36:57.475762Z",
     "start_time": "2022-04-20T04:36:57.452038Z"
    }
   },
   "outputs": [
    {
     "name": "stdout",
     "output_type": "stream",
     "text": [
      "Prime number in the given range are:  [0, 1, 2, 3, 5, 7, 11, 13, 17, 19, 23, 29, 31, 37, 41, 43, 47, 53, 59, 61, 67, 71, 73, 79, 83, 89, 97]\n",
      "Composite Number in the given range are:  [4, 6, 8, 9, 10, 12, 14, 15, 16, 18, 20, 21, 22, 24, 25, 26, 27, 28, 30, 32, 33, 34, 35, 36, 38, 39, 40, 42, 44, 45, 46, 48, 49, 50, 51, 52, 54, 55, 56, 57, 58, 60, 62, 63, 64, 65, 66, 68, 69, 70, 72, 74, 75, 76, 77, 78, 80, 81, 82, 84, 85, 86, 87, 88, 90, 91, 92, 93, 94, 95, 96, 98, 99, 100]\n"
     ]
    }
   ],
   "source": [
    "numbers = list(range(101))\n",
    "#print(numbers)\n",
    "f= 0\n",
    "prime= []\n",
    "composite = []\n",
    "for n in numbers:\n",
    "    for i in range(1,int(n/2)+1):\n",
    "        if n%i ==0:\n",
    "            f = 1 + i\n",
    "    if f > 2:\n",
    "        composite.append(n)\n",
    "        \n",
    "    else:\n",
    "        #print(n)\n",
    "        prime.append(n)\n",
    "print(\"Prime number in the given range are: \" ,prime )\n",
    "print(\"Composite Number in the given range are: \", composite)\n",
    "            \n",
    "    "
   ]
  },
  {
   "cell_type": "markdown",
   "metadata": {},
   "source": [
    "## Write a program to count number of vowels in a string."
   ]
  },
  {
   "cell_type": "code",
   "execution_count": 58,
   "metadata": {
    "ExecuteTime": {
     "end_time": "2022-04-20T04:36:13.019248Z",
     "start_time": "2022-04-20T04:36:10.449940Z"
    }
   },
   "outputs": [
    {
     "name": "stdout",
     "output_type": "stream",
     "text": [
      "Please Enter your words:hi\n",
      "Number of vomels are: 1\n"
     ]
    }
   ],
   "source": [
    "words = input(\"Please Enter your words:\")\n",
    "count=0\n",
    "for i in words:\n",
    "      if(i=='a' or i=='e' or i=='i' or i=='o' or i=='u' or i=='A' or i=='E' or i=='I' or i=='O' or i=='U'):\n",
    "            count=count+1\n",
    "print(\"Number of vomels are:\", count)\n",
    "\n"
   ]
  },
  {
   "cell_type": "markdown",
   "metadata": {},
   "source": [
    "## Write a program to find smallest and largest number among 10 numbers stored in a list."
   ]
  },
  {
   "cell_type": "code",
   "execution_count": 61,
   "metadata": {
    "ExecuteTime": {
     "end_time": "2022-04-20T04:39:47.516201Z",
     "start_time": "2022-04-20T04:39:47.494773Z"
    }
   },
   "outputs": [
    {
     "name": "stdout",
     "output_type": "stream",
     "text": [
      "largest_number 427\n",
      "smallest_number 1\n"
     ]
    }
   ],
   "source": [
    "numbers = [34,1,8,35,69,427,56,78]\n",
    "sort_number = sorted(numbers)\n",
    "print(\"largest_number\", sort_number[-1])\n",
    "print(\"smallest_number\", sort_number[0])"
   ]
  },
  {
   "cell_type": "markdown",
   "metadata": {},
   "source": [
    "## Write a program to count even numbers and odd numbers stored in alist."
   ]
  },
  {
   "cell_type": "code",
   "execution_count": 64,
   "metadata": {
    "ExecuteTime": {
     "end_time": "2022-04-20T04:46:18.213370Z",
     "start_time": "2022-04-20T04:46:18.203741Z"
    }
   },
   "outputs": [
    {
     "name": "stdout",
     "output_type": "stream",
     "text": [
      "Count of Even Numbers in a Given list is: \n",
      "3\n",
      "Count of Odd Numbers in a Given list is: \n",
      "6\n"
     ]
    }
   ],
   "source": [
    "numbers = [45,72,43,231,35,69,73,54,68]\n",
    "even = []\n",
    "odd = []\n",
    "for n in numbers:\n",
    "    if n %2 == 0:\n",
    "        even.append(n)\n",
    "    else:\n",
    "        odd.append(n)\n",
    "print(\"Count of Even Numbers in a Given list is: \")\n",
    "print(len(even))\n",
    "print(\"Count of Odd Numbers in a Given list is: \")\n",
    "print(len(odd))\n",
    "        "
   ]
  },
  {
   "cell_type": "markdown",
   "metadata": {},
   "source": [
    "## Write a program to find sum of two matrices."
   ]
  },
  {
   "cell_type": "code",
   "execution_count": 26,
   "metadata": {
    "ExecuteTime": {
     "end_time": "2022-04-21T03:28:48.176424Z",
     "start_time": "2022-04-21T03:28:48.156148Z"
    }
   },
   "outputs": [
    {
     "name": "stdout",
     "output_type": "stream",
     "text": [
      "[2, 4, 6]\n",
      "[6, 8, 11]\n"
     ]
    }
   ],
   "source": [
    "a = [[1,2,3],[2,3,4]]\n",
    "b = [[1,2,3],[4,5,7]]\n",
    "c = [[0,0,0],[0,0,0]]\n",
    "for i in range(2):\n",
    "    for j in range(3):\n",
    "        c[i][j] = a[i][j] + b[i][j]\n",
    "\n",
    "for r in c:\n",
    "    print(r)"
   ]
  },
  {
   "cell_type": "markdown",
   "metadata": {},
   "source": [
    "## Write a program to find product of two matrices.\n"
   ]
  },
  {
   "cell_type": "code",
   "execution_count": 22,
   "metadata": {
    "ExecuteTime": {
     "end_time": "2022-04-21T03:27:11.693172Z",
     "start_time": "2022-04-21T03:27:11.670784Z"
    }
   },
   "outputs": [
    {
     "name": "stdout",
     "output_type": "stream",
     "text": [
      "[18, 24, 35]\n",
      "[26, 35, 51]\n",
      "[45, 61, 89]\n"
     ]
    }
   ],
   "source": [
    "a = [[1,2,3],[2,3,4],[4,5,7]]\n",
    "b = [[1,2,3],[4,5,7],[3,4,6]]\n",
    "c = [[0,0,0],[0,0,0],[0,0,0]]\n",
    "for i in range(len(a)):\n",
    "    for j in range(len(b[0])):\n",
    "        for k in range(len(b)):\n",
    "            c[i][j] += a[i][k] * b[k][j]\n",
    "            #print(c[i][j],a[i][k]* b[k][j])\n",
    "    \n",
    "for r in c:\n",
    "    print(r)    "
   ]
  },
  {
   "cell_type": "markdown",
   "metadata": {},
   "source": [
    "## Write a program using function with return type to find sum of two numbers. "
   ]
  },
  {
   "cell_type": "code",
   "execution_count": 1,
   "metadata": {
    "ExecuteTime": {
     "end_time": "2022-05-04T15:54:02.322930Z",
     "start_time": "2022-05-04T15:54:02.279740Z"
    }
   },
   "outputs": [
    {
     "data": {
      "text/plain": [
       "6"
      ]
     },
     "execution_count": 1,
     "metadata": {},
     "output_type": "execute_result"
    }
   ],
   "source": [
    "def add(a,b):\n",
    "    c = a + b\n",
    "    return c\n",
    "add(2,4)"
   ]
  },
  {
   "cell_type": "markdown",
   "metadata": {},
   "source": [
    "## Write program using recursive function to find factorial of a number."
   ]
  },
  {
   "cell_type": "code",
   "execution_count": 11,
   "metadata": {
    "ExecuteTime": {
     "end_time": "2022-05-04T16:03:06.636966Z",
     "start_time": "2022-05-04T16:03:06.616770Z"
    }
   },
   "outputs": [
    {
     "data": {
      "text/plain": [
       "6"
      ]
     },
     "execution_count": 11,
     "metadata": {},
     "output_type": "execute_result"
    }
   ],
   "source": [
    "def factorial(n):\n",
    "    if n == 0:\n",
    "        return 1\n",
    "    else:\n",
    "        return n*factorial(n-1)\n",
    "factorial(3)\n",
    "\n"
   ]
  },
  {
   "cell_type": "markdown",
   "metadata": {},
   "source": [
    "## Write program using recursive function to find nth Fibonacci number."
   ]
  },
  {
   "cell_type": "code",
   "execution_count": 20,
   "metadata": {
    "ExecuteTime": {
     "end_time": "2022-05-04T16:06:38.466608Z",
     "start_time": "2022-05-04T16:06:38.454361Z"
    }
   },
   "outputs": [
    {
     "name": "stdout",
     "output_type": "stream",
     "text": [
      "[1, 2, 3, 5, 8, 13, 21, 34, 55, 89]\n"
     ]
    }
   ],
   "source": [
    "def fibonacci_number(n):\n",
    "    a = 0\n",
    "    b = 1\n",
    "    fib = []\n",
    "    \n",
    "    for i in range(n):\n",
    "        f = a + b\n",
    "        a = b\n",
    "        b = f\n",
    "        fib.append(f)\n",
    "\n",
    "    print(fib)\n",
    "fibonacci_number(10)\n"
   ]
  },
  {
   "cell_type": "code",
   "execution_count": 1,
   "metadata": {
    "ExecuteTime": {
     "end_time": "2022-05-20T06:10:15.452585Z",
     "start_time": "2022-05-20T06:10:12.382935Z"
    }
   },
   "outputs": [
    {
     "name": "stdout",
     "output_type": "stream",
     "text": [
      "Enter number of terms:5\n",
      "Fibonacci sequence:\n",
      "0\n",
      "1\n",
      "1\n",
      "2\n",
      "3\n"
     ]
    }
   ],
   "source": [
    "def fibonacci(n):\n",
    "    if(n <= 1):\n",
    "        return n\n",
    "    else:\n",
    "        return(fibonacci(n-1) + fibonacci(n-2))\n",
    "n = int(input(\"Enter number of terms:\"))\n",
    "print(\"Fibonacci sequence:\")\n",
    "for i in range(n):\n",
    "    print(fibonacci(i))\n",
    "    \n",
    "\n",
    "    \n",
    "    "
   ]
  },
  {
   "cell_type": "markdown",
   "metadata": {},
   "source": [
    "## Write a program to read from and write to files."
   ]
  },
  {
   "cell_type": "code",
   "execution_count": 3,
   "metadata": {
    "ExecuteTime": {
     "end_time": "2022-05-19T07:49:25.691999Z",
     "start_time": "2022-05-19T07:49:25.675611Z"
    }
   },
   "outputs": [
    {
     "name": "stdout",
     "output_type": "stream",
     "text": [
      "This is my first text file.\n"
     ]
    }
   ],
   "source": [
    "f = open('my_file.txt','r')\n",
    "print(f.read())\n",
    "    "
   ]
  },
  {
   "cell_type": "code",
   "execution_count": 4,
   "metadata": {
    "ExecuteTime": {
     "end_time": "2022-05-19T07:51:26.736399Z",
     "start_time": "2022-05-19T07:51:26.715683Z"
    }
   },
   "outputs": [
    {
     "name": "stdout",
     "output_type": "stream",
     "text": [
      "This is my first text file.\n",
      "new line will be added\n"
     ]
    }
   ],
   "source": [
    "f = open('my_file.txt','a')\n",
    "f.write(\"\\nnew line will be added\")\n",
    "f.close()\n",
    "f = open('my_file.txt','r')\n",
    "print(f.read())\n"
   ]
  },
  {
   "cell_type": "markdown",
   "metadata": {},
   "source": [
    "## Write a program to find sum and average of numbers stored in a file"
   ]
  },
  {
   "cell_type": "code",
   "execution_count": 19,
   "metadata": {
    "ExecuteTime": {
     "end_time": "2022-05-19T08:07:59.454757Z",
     "start_time": "2022-05-19T08:07:59.440027Z"
    }
   },
   "outputs": [
    {
     "name": "stdout",
     "output_type": "stream",
     "text": [
      "average 7.0\n"
     ]
    }
   ],
   "source": [
    "f = open(\"new.txt\",'r')\n",
    "l = list(f.read())\n",
    "numbers = []\n",
    "for ele in l:\n",
    "    if ele.strip():\n",
    "        numbers.append(ele)\n",
    "total_sum = 0 \n",
    "n = len(numbers)\n",
    "for i in [int(i) for i in numbers]:\n",
    "    total_sum = total_sum + i\n",
    "print('average', total_sum/n)"
   ]
  },
  {
   "cell_type": "markdown",
   "metadata": {},
   "source": [
    "## Write  a  program  that  reads  data  from  a  text  file,  counts  number  of  vowels  in  it,  and  writes number of vowels in a separate text file."
   ]
  },
  {
   "cell_type": "code",
   "execution_count": 24,
   "metadata": {
    "ExecuteTime": {
     "end_time": "2022-05-19T08:13:42.693748Z",
     "start_time": "2022-05-19T08:13:42.679478Z"
    }
   },
   "outputs": [],
   "source": [
    "f = open('my_file.txt','r')\n",
    "f1 = f.read()\n",
    "count=0\n",
    "for i in f1:\n",
    "      if(i=='a' or i=='e' or i=='i' or i=='o' or i=='u' or i=='A' or i=='E' or i=='I' or i=='O' or i=='U'):\n",
    "            count=count+1\n",
    "f = open('count.txt','a')\n",
    "f.write(str(count))\n",
    "f.close()\n"
   ]
  },
  {
   "cell_type": "markdown",
   "metadata": {},
   "source": [
    "## Write a program that reads a CSV file with eight fields (SID, Name, and Marks in five subjects) and displays name and total marks obtained by each student."
   ]
  },
  {
   "cell_type": "code",
   "execution_count": 36,
   "metadata": {
    "ExecuteTime": {
     "end_time": "2022-05-19T08:59:48.437226Z",
     "start_time": "2022-05-19T08:59:48.424756Z"
    }
   },
   "outputs": [
    {
     "name": "stdout",
     "output_type": "stream",
     "text": [
      "Sita 224\n",
      "Ram 224\n",
      "Ramesh 224\n",
      "Shyam 224\n",
      "kamala 224\n",
      "Gita 224\n",
      "Rasmi 224\n"
     ]
    }
   ],
   "source": [
    "import csv\n",
    "with open(\"Book1.csv\",\"r\") as f:\n",
    "    csv_reader = csv.reader(f)\n",
    "    next(csv_reader)\n",
    "    for line in csv_reader:\n",
    "        mask = line[2:6]\n",
    "        #print(mask)\n",
    "        count = 0 \n",
    "        for i in [int(i) for x in mask]:\n",
    "            count = count + i\n",
    "        \n",
    "        print(line[1],count)"
   ]
  },
  {
   "cell_type": "code",
   "execution_count": 32,
   "metadata": {
    "ExecuteTime": {
     "end_time": "2022-05-19T08:55:07.392619Z",
     "start_time": "2022-05-19T08:55:07.375804Z"
    }
   },
   "outputs": [
    {
     "data": {
      "text/plain": [
       "['92', '89', '81']"
      ]
     },
     "execution_count": 32,
     "metadata": {},
     "output_type": "execute_result"
    }
   ],
   "source": [
    "line[2:5]"
   ]
  },
  {
   "cell_type": "markdown",
   "metadata": {},
   "source": [
    "## Create a  class Circlecontainingradiusas instance  variableand  two  functions area()and circumference()to  find  area  and  circumference  of  circlesrespectively.Create at  least  two objectsof the Circleclass to test the program."
   ]
  },
  {
   "cell_type": "code",
   "execution_count": 2,
   "metadata": {
    "ExecuteTime": {
     "end_time": "2022-06-02T02:34:37.271939Z",
     "start_time": "2022-06-02T02:34:37.257091Z"
    }
   },
   "outputs": [
    {
     "data": {
      "text/plain": [
       "'The area of cicle is 12.56'"
      ]
     },
     "execution_count": 2,
     "metadata": {},
     "output_type": "execute_result"
    }
   ],
   "source": [
    "class Circle:\n",
    "    pi = 3.14\n",
    "    def __init__(self,radius):\n",
    "        self.radius = radius\n",
    "    def area(self):\n",
    "        return f\"The area of cicle is {Circle.pi * self.radius}\"\n",
    "    def circumference(self):\n",
    "        return f\"The circumference of circle is {2 * Circle.pi* self.radius}\"\n",
    "a = Circle(4)\n",
    "a.area()\n"
   ]
  },
  {
   "cell_type": "code",
   "execution_count": 3,
   "metadata": {
    "ExecuteTime": {
     "end_time": "2022-06-02T02:34:39.843343Z",
     "start_time": "2022-06-02T02:34:39.831293Z"
    }
   },
   "outputs": [
    {
     "data": {
      "text/plain": [
       "'The circumference of circle is 25.12'"
      ]
     },
     "execution_count": 3,
     "metadata": {},
     "output_type": "execute_result"
    }
   ],
   "source": [
    "a.circumference()"
   ]
  },
  {
   "cell_type": "markdown",
   "metadata": {},
   "source": [
    "## Create a  class Rectangle containing length and breadth as instance  variables and  two functions area()and perimeter()to find area and perimeter of rectangles respectively.Create at least two objects of the Rectangle class to test the program."
   ]
  },
  {
   "cell_type": "code",
   "execution_count": 8,
   "metadata": {
    "ExecuteTime": {
     "end_time": "2022-06-02T02:39:52.091486Z",
     "start_time": "2022-06-02T02:39:52.080540Z"
    }
   },
   "outputs": [
    {
     "data": {
      "text/plain": [
       "' The area of rectangle is 156cm2'"
      ]
     },
     "execution_count": 8,
     "metadata": {},
     "output_type": "execute_result"
    }
   ],
   "source": [
    "class Rectangle:\n",
    "    def __init__(self,length, breath):\n",
    "        self.length = length\n",
    "        self.breath = breath\n",
    "        \n",
    "    def area(self):\n",
    "        return f\" The area of rectangle is {self.length* self.breath}cm2\"\n",
    "    def perimeter(self):\n",
    "        return f\" The perimeter of the retangle is {2 *(self.length + self.breath)}cm\"\n",
    "    \n",
    "r = Rectangle(12,13)\n",
    "r.area()\n"
   ]
  },
  {
   "cell_type": "code",
   "execution_count": 9,
   "metadata": {
    "ExecuteTime": {
     "end_time": "2022-06-02T02:39:55.143451Z",
     "start_time": "2022-06-02T02:39:55.119313Z"
    }
   },
   "outputs": [
    {
     "data": {
      "text/plain": [
       "' The perimeter of the retangle is 50cm'"
      ]
     },
     "execution_count": 9,
     "metadata": {},
     "output_type": "execute_result"
    }
   ],
   "source": [
    "r.perimeter()"
   ]
  },
  {
   "cell_type": "markdown",
   "metadata": {},
   "source": [
    "## Create a class Distance containing feet and inches as  instance  variables and two functions add()and compare()for adding  and comparing  two distance objects.Create two objectsto add and compare the objects"
   ]
  },
  {
   "cell_type": "code",
   "execution_count": 10,
   "metadata": {
    "ExecuteTime": {
     "end_time": "2022-06-02T02:41:07.215362Z",
     "start_time": "2022-06-02T02:41:07.188332Z"
    }
   },
   "outputs": [
    {
     "name": "stdout",
     "output_type": "stream",
     "text": [
      "d2 is larger\n",
      "feet =58, inches = 9\n"
     ]
    }
   ],
   "source": [
    "class Distance:\n",
    "    \n",
    "    def __init__(self,feet,inches):\n",
    "        self.feet = feet\n",
    "        self.inches = inches\n",
    "    @staticmethod\n",
    "    def add(d1,d2):\n",
    "        d3= Distance(0,0)\n",
    "        d3.feet = d1.feet + d2.feet\n",
    "        d3.inches = d1.inches + d2.inches\n",
    "        if d3.inches >= 12:\n",
    "            d3.feet +=1\n",
    "            d3.inches -= 12\n",
    "        return d3\n",
    "        \n",
    "    def display(self):\n",
    "        print(f\"feet ={self.feet}, inches = {self.inches}\")\n",
    "        \n",
    "    def compare(self,d):\n",
    "        if self.feet > d.feet:\n",
    "            print(\"d1 is larger\")\n",
    "        elif self.feet <d.feet:\n",
    "            print(\"d2 is larger\")\n",
    "            \n",
    "        else:\n",
    "            if self.inches > d.feet:\n",
    "                print(\"d1 is large\")\n",
    "            elif self.inches < d.inches:\n",
    "                print(\"d2 is larger\")\n",
    "                \n",
    "            else:\n",
    "                print(\"both are equal\")\n",
    "        \n",
    "    \n",
    "d1 = Distance(12,10)\n",
    "d2 = Distance(45,11)\n",
    "d3 = Distance.add(d1,d2)\n",
    "d1.compare(d2)\n",
    "#Distance.add(d1,d2)\n",
    "d3.display()\n",
    "        \n",
    "    "
   ]
  },
  {
   "cell_type": "markdown",
   "metadata": {},
   "source": [
    "## Create a class Student with name, roll number, and marks in five subjects. Add two functions to  calculate  total  and  percentage  of  marks  obtained. Use  this  class  to find  percentage and division of five students."
   ]
  },
  {
   "cell_type": "code",
   "execution_count": 1,
   "metadata": {
    "ExecuteTime": {
     "end_time": "2022-06-30T01:13:50.903940Z",
     "start_time": "2022-06-30T01:13:50.885699Z"
    }
   },
   "outputs": [],
   "source": [
    "name = [\"Ram\",\"Gita\",\"Sita\",\"Hari\",\"Ramesh\"]\n",
    "roll = [1,2,3,4,5]\n",
    "marks = {\"Ram\": {\"Math\":89,\"English\" : 90,\"physics\": 80, \"Chemistry\": 99,\"Nepali\": 88},\n",
    "         \"Gita\": {\"Math\":89,\"English\" : 90,\"physics\": 89, \"Chemistry\": 90,\"Nepali\": 87},\n",
    "         \"Sita\":{\"Math\":100,\"English\" : 80,\"physics\": 88, \"Chemistry\": 99,\"Nepali\": 80},\n",
    "         \"Hari\":{\"Math\":60,\"English\" : 60,\"physics\": 71, \"Chemistry\": 56,\"Nepali\": 66},\n",
    "          \"Ramesh\":{\"Math\":79,\"English\" : 93,\"physics\": 84, \"Chemistry\": 89,\"Nepali\": 84}}\n",
    "full_marks = 500"
   ]
  },
  {
   "cell_type": "code",
   "execution_count": 2,
   "metadata": {
    "ExecuteTime": {
     "end_time": "2022-06-30T01:13:52.187433Z",
     "start_time": "2022-06-30T01:13:52.168780Z"
    }
   },
   "outputs": [
    {
     "name": "stdout",
     "output_type": "stream",
     "text": [
      "Ram 89.2 %\n",
      "Gita 89.0 %\n",
      "Sita 89.4 %\n",
      "Hari 62.6 %\n",
      "Ramesh 85.8 %\n"
     ]
    }
   ],
   "source": [
    "\n",
    "class Student:\n",
    "    def __init__(self,name,roll, marks):\n",
    "        self.name = name\n",
    "        self.roll = roll\n",
    "        self.marks = marks\n",
    "    def percentage(self):\n",
    "        def get_all_values(marks):\n",
    "            for key, value in marks.items():\n",
    "                for i in value.values():\n",
    "                    int_mark = [int(i) for i in value.values()]\n",
    "                    percent = 100 *sum(int_mark)/full_marks\n",
    "\n",
    "                print(key, percent,\"%\")\n",
    "        get_all_values(self.marks)\n",
    "            \n",
    "s = Student(name,roll,marks)\n",
    "s.percentage()"
   ]
  },
  {
   "cell_type": "code",
   "execution_count": 3,
   "metadata": {
    "ExecuteTime": {
     "end_time": "2022-06-30T01:13:53.136253Z",
     "start_time": "2022-06-30T01:13:53.115323Z"
    }
   },
   "outputs": [
    {
     "data": {
      "text/plain": [
       "dict_values([{'Math': 89, 'English': 90, 'physics': 80, 'Chemistry': 99, 'Nepali': 88}, {'Math': 89, 'English': 90, 'physics': 89, 'Chemistry': 90, 'Nepali': 87}, {'Math': 100, 'English': 80, 'physics': 88, 'Chemistry': 99, 'Nepali': 80}, {'Math': 60, 'English': 60, 'physics': 71, 'Chemistry': 56, 'Nepali': 66}, {'Math': 79, 'English': 93, 'physics': 84, 'Chemistry': 89, 'Nepali': 84}])"
      ]
     },
     "execution_count": 3,
     "metadata": {},
     "output_type": "execute_result"
    }
   ],
   "source": [
    "marks.values()"
   ]
  },
  {
   "cell_type": "code",
   "execution_count": 4,
   "metadata": {
    "ExecuteTime": {
     "end_time": "2022-06-30T01:13:54.070294Z",
     "start_time": "2022-06-30T01:13:54.059294Z"
    }
   },
   "outputs": [
    {
     "name": "stdout",
     "output_type": "stream",
     "text": [
      "[89.2, 89.0, 89.4, 62.6, 85.8]\n",
      "89.2\n",
      "first Division\n",
      "89.0\n",
      "first Division\n",
      "89.4\n",
      "first Division\n",
      "62.6\n",
      "first Division\n",
      "85.8\n",
      "first Division\n"
     ]
    }
   ],
   "source": [
    "\n",
    "def get_all_values(marks):\n",
    "    p = []\n",
    "    \n",
    "    \n",
    "    for key, value in marks.items():\n",
    "        \n",
    "        for i in value.values():\n",
    "            int_mark = [int(i) for i in value.values()]\n",
    "            percent = 100 *sum(int_mark)/full_marks\n",
    "        p.append(percent)\n",
    "    print(p)\n",
    "           \n",
    "        \n",
    "    for k in p:\n",
    "        print(k)\n",
    "        if k > 90 :\n",
    "            print(\"Outstanding\")\n",
    "        elif k >= 60 or k < 80:\n",
    "            print(\"first Division\")\n",
    "            \n",
    "\n",
    "        elif k >=80 or k <90:\n",
    "            print(\"Distinction\")\n",
    "\n",
    "        \n",
    "\n",
    "        else:\n",
    "            print(\"pass\")\n",
    "\n",
    "\n",
    "#print(key, percent,\"%\")\n",
    "get_all_values(marks)\n",
    "\n",
    "\n"
   ]
  },
  {
   "cell_type": "code",
   "execution_count": null,
   "metadata": {},
   "outputs": [],
   "source": []
  }
 ],
 "metadata": {
  "kernelspec": {
   "display_name": "Python 3",
   "language": "python",
   "name": "python3"
  },
  "language_info": {
   "codemirror_mode": {
    "name": "ipython",
    "version": 3
   },
   "file_extension": ".py",
   "mimetype": "text/x-python",
   "name": "python",
   "nbconvert_exporter": "python",
   "pygments_lexer": "ipython3",
   "version": "3.8.5"
  },
  "latex_envs": {
   "LaTeX_envs_menu_present": true,
   "autoclose": false,
   "autocomplete": true,
   "bibliofile": "biblio.bib",
   "cite_by": "apalike",
   "current_citInitial": 1,
   "eqLabelWithNumbers": true,
   "eqNumInitial": 1,
   "hotkeys": {
    "equation": "Ctrl-E",
    "itemize": "Ctrl-I"
   },
   "labels_anchors": false,
   "latex_user_defs": false,
   "report_style_numbering": false,
   "user_envs_cfg": false
  },
  "toc": {
   "base_numbering": 1,
   "nav_menu": {},
   "number_sections": true,
   "sideBar": true,
   "skip_h1_title": false,
   "title_cell": "Table of Contents",
   "title_sidebar": "Contents",
   "toc_cell": false,
   "toc_position": {},
   "toc_section_display": true,
   "toc_window_display": false
  }
 },
 "nbformat": 4,
 "nbformat_minor": 4
}
