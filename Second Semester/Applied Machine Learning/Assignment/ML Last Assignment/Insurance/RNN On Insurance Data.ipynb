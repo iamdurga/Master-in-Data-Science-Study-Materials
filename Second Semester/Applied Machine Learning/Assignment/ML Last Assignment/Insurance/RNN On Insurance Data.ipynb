{
 "cells": [
  {
   "cell_type": "markdown",
   "metadata": {
    "ExecuteTime": {
     "end_time": "2022-07-07T03:21:48.781051Z",
     "start_time": "2022-07-07T03:21:48.770135Z"
    }
   },
   "source": [
    "# Import"
   ]
  },
  {
   "cell_type": "code",
   "execution_count": 3,
   "metadata": {
    "ExecuteTime": {
     "end_time": "2022-07-07T03:22:47.117230Z",
     "start_time": "2022-07-07T03:22:45.159976Z"
    }
   },
   "outputs": [
    {
     "data": {
      "text/html": [
       "        <script type=\"text/javascript\">\n",
       "        window.PlotlyConfig = {MathJaxConfig: 'local'};\n",
       "        if (window.MathJax) {MathJax.Hub.Config({SVG: {font: \"STIX-Web\"}});}\n",
       "        if (typeof require !== 'undefined') {\n",
       "        require.undef(\"plotly\");\n",
       "        requirejs.config({\n",
       "            paths: {\n",
       "                'plotly': ['https://cdn.plot.ly/plotly-2.9.0.min']\n",
       "            }\n",
       "        });\n",
       "        require(['plotly'], function(Plotly) {\n",
       "            window._Plotly = Plotly;\n",
       "        });\n",
       "        }\n",
       "        </script>\n",
       "        "
      ]
     },
     "metadata": {},
     "output_type": "display_data"
    }
   ],
   "source": [
    "import numpy as np\n",
    "import pandas as pd\n",
    "from sklearn.metrics import accuracy_score\n",
    "from sklearn.preprocessing import StandardScaler\n",
    "import cufflinks\n",
    "\n",
    "cufflinks.go_offline()\n",
    "cufflinks.set_config_file(world_readable=True, theme='pearl')"
   ]
  },
  {
   "cell_type": "markdown",
   "metadata": {},
   "source": [
    "# Read Data"
   ]
  },
  {
   "cell_type": "code",
   "execution_count": 4,
   "metadata": {
    "ExecuteTime": {
     "end_time": "2022-07-07T03:23:02.740623Z",
     "start_time": "2022-07-07T03:23:02.687636Z"
    }
   },
   "outputs": [
    {
     "data": {
      "text/html": [
       "<div>\n",
       "<style scoped>\n",
       "    .dataframe tbody tr th:only-of-type {\n",
       "        vertical-align: middle;\n",
       "    }\n",
       "\n",
       "    .dataframe tbody tr th {\n",
       "        vertical-align: top;\n",
       "    }\n",
       "\n",
       "    .dataframe thead th {\n",
       "        text-align: right;\n",
       "    }\n",
       "</style>\n",
       "<table border=\"1\" class=\"dataframe\">\n",
       "  <thead>\n",
       "    <tr style=\"text-align: right;\">\n",
       "      <th></th>\n",
       "      <th>S.N.</th>\n",
       "      <th>Date</th>\n",
       "      <th>Total Transactions</th>\n",
       "      <th>Total Traded Shares</th>\n",
       "      <th>Total Traded Amount</th>\n",
       "      <th>Max. Price</th>\n",
       "      <th>Min. Price</th>\n",
       "      <th>Close Price</th>\n",
       "    </tr>\n",
       "  </thead>\n",
       "  <tbody>\n",
       "    <tr>\n",
       "      <th>0</th>\n",
       "      <td>1</td>\n",
       "      <td>2021-12-29</td>\n",
       "      <td>80</td>\n",
       "      <td>7301.0</td>\n",
       "      <td>8256887.7</td>\n",
       "      <td>1145.0</td>\n",
       "      <td>1117.2</td>\n",
       "      <td>1123.0</td>\n",
       "    </tr>\n",
       "    <tr>\n",
       "      <th>1</th>\n",
       "      <td>2</td>\n",
       "      <td>2021-12-28</td>\n",
       "      <td>182</td>\n",
       "      <td>18239.0</td>\n",
       "      <td>20247233.0</td>\n",
       "      <td>1150.0</td>\n",
       "      <td>1088.0</td>\n",
       "      <td>1125.0</td>\n",
       "    </tr>\n",
       "    <tr>\n",
       "      <th>2</th>\n",
       "      <td>3</td>\n",
       "      <td>2021-12-27</td>\n",
       "      <td>389</td>\n",
       "      <td>33991.0</td>\n",
       "      <td>39652953.1</td>\n",
       "      <td>1212.0</td>\n",
       "      <td>1124.0</td>\n",
       "      <td>1130.0</td>\n",
       "    </tr>\n",
       "    <tr>\n",
       "      <th>3</th>\n",
       "      <td>4</td>\n",
       "      <td>2021-12-26</td>\n",
       "      <td>395</td>\n",
       "      <td>43361.0</td>\n",
       "      <td>50376673.9</td>\n",
       "      <td>1188.0</td>\n",
       "      <td>1079.0</td>\n",
       "      <td>1188.0</td>\n",
       "    </tr>\n",
       "    <tr>\n",
       "      <th>4</th>\n",
       "      <td>5</td>\n",
       "      <td>2021-12-23</td>\n",
       "      <td>156</td>\n",
       "      <td>11832.0</td>\n",
       "      <td>12704046.9</td>\n",
       "      <td>1095.0</td>\n",
       "      <td>1040.0</td>\n",
       "      <td>1080.0</td>\n",
       "    </tr>\n",
       "  </tbody>\n",
       "</table>\n",
       "</div>"
      ],
      "text/plain": [
       "   S.N.        Date  Total Transactions  Total Traded Shares  \\\n",
       "0     1  2021-12-29                  80               7301.0   \n",
       "1     2  2021-12-28                 182              18239.0   \n",
       "2     3  2021-12-27                 389              33991.0   \n",
       "3     4  2021-12-26                 395              43361.0   \n",
       "4     5  2021-12-23                 156              11832.0   \n",
       "\n",
       "   Total Traded Amount  Max. Price  Min. Price  Close Price  \n",
       "0            8256887.7      1145.0      1117.2       1123.0  \n",
       "1           20247233.0      1150.0      1088.0       1125.0  \n",
       "2           39652953.1      1212.0      1124.0       1130.0  \n",
       "3           50376673.9      1188.0      1079.0       1188.0  \n",
       "4           12704046.9      1095.0      1040.0       1080.0  "
      ]
     },
     "execution_count": 4,
     "metadata": {},
     "output_type": "execute_result"
    }
   ],
   "source": [
    "#data = \"ALICL_2000-01-01_2021-12-31.csv\"\n",
    "develop = pd.read_csv(\"ALICL_2000-01-01_2021-12-31.csv\", engine='python')\n",
    "develop.head()\n"
   ]
  },
  {
   "cell_type": "code",
   "execution_count": null,
   "metadata": {},
   "outputs": [],
   "source": []
  }
 ],
 "metadata": {
  "kernelspec": {
   "display_name": "Python 3",
   "language": "python",
   "name": "python3"
  },
  "language_info": {
   "codemirror_mode": {
    "name": "ipython",
    "version": 3
   },
   "file_extension": ".py",
   "mimetype": "text/x-python",
   "name": "python",
   "nbconvert_exporter": "python",
   "pygments_lexer": "ipython3",
   "version": "3.8.5"
  },
  "latex_envs": {
   "LaTeX_envs_menu_present": true,
   "autoclose": false,
   "autocomplete": true,
   "bibliofile": "biblio.bib",
   "cite_by": "apalike",
   "current_citInitial": 1,
   "eqLabelWithNumbers": true,
   "eqNumInitial": 1,
   "hotkeys": {
    "equation": "Ctrl-E",
    "itemize": "Ctrl-I"
   },
   "labels_anchors": false,
   "latex_user_defs": false,
   "report_style_numbering": false,
   "user_envs_cfg": false
  },
  "toc": {
   "base_numbering": 1,
   "nav_menu": {},
   "number_sections": true,
   "sideBar": true,
   "skip_h1_title": false,
   "title_cell": "Table of Contents",
   "title_sidebar": "Contents",
   "toc_cell": false,
   "toc_position": {},
   "toc_section_display": true,
   "toc_window_display": false
  }
 },
 "nbformat": 4,
 "nbformat_minor": 4
}
